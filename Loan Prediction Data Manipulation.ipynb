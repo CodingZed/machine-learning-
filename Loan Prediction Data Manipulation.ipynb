{
 "cells": [
  {
   "cell_type": "code",
   "execution_count": 260,
   "metadata": {
    "collapsed": true
   },
   "outputs": [],
   "source": [
    "import pandas as pd\n",
    "import numpy as np\n",
    "import qgrid\n",
    "qgrid.nbinstall(overwrite=True)"
   ]
  },
  {
   "cell_type": "code",
   "execution_count": 27,
   "metadata": {
    "collapsed": true
   },
   "outputs": [],
   "source": [
    "import matplotlib.pyplot as plt\n",
    "%matplotlib inline"
   ]
  },
  {
   "cell_type": "markdown",
   "metadata": {},
   "source": [
    "## Input data"
   ]
  },
  {
   "cell_type": "code",
   "execution_count": 28,
   "metadata": {
    "collapsed": false
   },
   "outputs": [],
   "source": [
    "train=pd.read_csv('train.csv')\n",
    "test=pd.read_csv('test.csv')"
   ]
  },
  {
   "cell_type": "code",
   "execution_count": 29,
   "metadata": {
    "collapsed": false
   },
   "outputs": [],
   "source": [
    "train['source']='train'\n",
    "test['source']='test'"
   ]
  },
  {
   "cell_type": "markdown",
   "metadata": {},
   "source": [
    "#### Combine train and test DataFrame"
   ]
  },
  {
   "cell_type": "code",
   "execution_count": 30,
   "metadata": {
    "collapsed": true
   },
   "outputs": [],
   "source": [
    "combine=pd.concat([train,test],ignore_index=True)"
   ]
  },
  {
   "cell_type": "code",
   "execution_count": 31,
   "metadata": {
    "collapsed": false
   },
   "outputs": [
    {
     "name": "stdout",
     "output_type": "stream",
     "text": [
      "(614, 14) (367, 13) (981, 14)\n"
     ]
    }
   ],
   "source": [
    "print (train.shape,test.shape,combine.shape)"
   ]
  },
  {
   "cell_type": "code",
   "execution_count": 32,
   "metadata": {
    "collapsed": false
   },
   "outputs": [
    {
     "data": {
      "text/html": [
       "<div>\n",
       "<table border=\"1\" class=\"dataframe\">\n",
       "  <thead>\n",
       "    <tr style=\"text-align: right;\">\n",
       "      <th></th>\n",
       "      <th>Gender</th>\n",
       "      <th>Education</th>\n",
       "      <th>Loan_Status</th>\n",
       "    </tr>\n",
       "  </thead>\n",
       "  <tbody>\n",
       "    <tr>\n",
       "      <th>50</th>\n",
       "      <td>Female</td>\n",
       "      <td>Not Graduate</td>\n",
       "      <td>Y</td>\n",
       "    </tr>\n",
       "    <tr>\n",
       "      <th>197</th>\n",
       "      <td>Female</td>\n",
       "      <td>Not Graduate</td>\n",
       "      <td>Y</td>\n",
       "    </tr>\n",
       "    <tr>\n",
       "      <th>205</th>\n",
       "      <td>Female</td>\n",
       "      <td>Not Graduate</td>\n",
       "      <td>Y</td>\n",
       "    </tr>\n",
       "    <tr>\n",
       "      <th>279</th>\n",
       "      <td>Female</td>\n",
       "      <td>Not Graduate</td>\n",
       "      <td>Y</td>\n",
       "    </tr>\n",
       "    <tr>\n",
       "      <th>403</th>\n",
       "      <td>Female</td>\n",
       "      <td>Not Graduate</td>\n",
       "      <td>Y</td>\n",
       "    </tr>\n",
       "    <tr>\n",
       "      <th>407</th>\n",
       "      <td>Female</td>\n",
       "      <td>Not Graduate</td>\n",
       "      <td>Y</td>\n",
       "    </tr>\n",
       "    <tr>\n",
       "      <th>439</th>\n",
       "      <td>Female</td>\n",
       "      <td>Not Graduate</td>\n",
       "      <td>Y</td>\n",
       "    </tr>\n",
       "    <tr>\n",
       "      <th>463</th>\n",
       "      <td>Female</td>\n",
       "      <td>Not Graduate</td>\n",
       "      <td>Y</td>\n",
       "    </tr>\n",
       "    <tr>\n",
       "      <th>468</th>\n",
       "      <td>Female</td>\n",
       "      <td>Not Graduate</td>\n",
       "      <td>Y</td>\n",
       "    </tr>\n",
       "    <tr>\n",
       "      <th>480</th>\n",
       "      <td>Female</td>\n",
       "      <td>Not Graduate</td>\n",
       "      <td>Y</td>\n",
       "    </tr>\n",
       "    <tr>\n",
       "      <th>493</th>\n",
       "      <td>Female</td>\n",
       "      <td>Not Graduate</td>\n",
       "      <td>Y</td>\n",
       "    </tr>\n",
       "    <tr>\n",
       "      <th>534</th>\n",
       "      <td>Female</td>\n",
       "      <td>Not Graduate</td>\n",
       "      <td>Y</td>\n",
       "    </tr>\n",
       "    <tr>\n",
       "      <th>544</th>\n",
       "      <td>Female</td>\n",
       "      <td>Not Graduate</td>\n",
       "      <td>Y</td>\n",
       "    </tr>\n",
       "    <tr>\n",
       "      <th>587</th>\n",
       "      <td>Female</td>\n",
       "      <td>Not Graduate</td>\n",
       "      <td>Y</td>\n",
       "    </tr>\n",
       "  </tbody>\n",
       "</table>\n",
       "</div>"
      ],
      "text/plain": [
       "     Gender     Education Loan_Status\n",
       "50   Female  Not Graduate           Y\n",
       "197  Female  Not Graduate           Y\n",
       "205  Female  Not Graduate           Y\n",
       "279  Female  Not Graduate           Y\n",
       "403  Female  Not Graduate           Y\n",
       "407  Female  Not Graduate           Y\n",
       "439  Female  Not Graduate           Y\n",
       "463  Female  Not Graduate           Y\n",
       "468  Female  Not Graduate           Y\n",
       "480  Female  Not Graduate           Y\n",
       "493  Female  Not Graduate           Y\n",
       "534  Female  Not Graduate           Y\n",
       "544  Female  Not Graduate           Y\n",
       "587  Female  Not Graduate           Y"
      ]
     },
     "execution_count": 32,
     "metadata": {},
     "output_type": "execute_result"
    }
   ],
   "source": [
    "train.loc[(train[\"Gender\"]==\"Female\") & (train[\"Education\"]==\"Not Graduate\") & (train[\"Loan_Status\"]==\"Y\"), [\"Gender\",\"Education\",\"Loan_Status\"]]"
   ]
  },
  {
   "cell_type": "code",
   "execution_count": 33,
   "metadata": {
    "collapsed": false
   },
   "outputs": [
    {
     "data": {
      "text/plain": [
       "ApplicantIncome        0\n",
       "CoapplicantIncome      0\n",
       "Credit_History        79\n",
       "Dependents            25\n",
       "Education              0\n",
       "Gender                24\n",
       "LoanAmount            27\n",
       "Loan_Amount_Term      20\n",
       "Loan_ID                0\n",
       "Loan_Status          367\n",
       "Married                3\n",
       "Property_Area          0\n",
       "Self_Employed         55\n",
       "source                 0\n",
       "dtype: int64"
      ]
     },
     "execution_count": 33,
     "metadata": {},
     "output_type": "execute_result"
    }
   ],
   "source": [
    "combine.apply(lambda x: sum(x.isnull()),axis=0)"
   ]
  },
  {
   "cell_type": "markdown",
   "metadata": {},
   "source": [
    "## Data Manipulation"
   ]
  },
  {
   "cell_type": "code",
   "execution_count": 34,
   "metadata": {
    "collapsed": false
   },
   "outputs": [
    {
     "data": {
      "text/plain": [
       "ApplicantIncome        int64\n",
       "CoapplicantIncome    float64\n",
       "Credit_History       float64\n",
       "Dependents            object\n",
       "Education             object\n",
       "Gender                object\n",
       "LoanAmount           float64\n",
       "Loan_Amount_Term     float64\n",
       "Loan_ID               object\n",
       "Loan_Status           object\n",
       "Married               object\n",
       "Property_Area         object\n",
       "Self_Employed         object\n",
       "source                object\n",
       "dtype: object"
      ]
     },
     "execution_count": 34,
     "metadata": {},
     "output_type": "execute_result"
    }
   ],
   "source": [
    "combine.dtypes"
   ]
  },
  {
   "cell_type": "markdown",
   "metadata": {},
   "source": [
    "#### Revise Data Types"
   ]
  },
  {
   "cell_type": "code",
   "execution_count": 35,
   "metadata": {
    "collapsed": false
   },
   "outputs": [],
   "source": [
    "combine.Loan_Amount_Term=combine.Loan_Amount_Term.astype(str)\n",
    "combine.Credit_History=combine.Credit_History.astype(str)"
   ]
  },
  {
   "cell_type": "code",
   "execution_count": 36,
   "metadata": {
    "collapsed": false
   },
   "outputs": [
    {
     "data": {
      "text/plain": [
       "ApplicantIncome        int64\n",
       "CoapplicantIncome    float64\n",
       "Credit_History        object\n",
       "Dependents            object\n",
       "Education             object\n",
       "Gender                object\n",
       "LoanAmount           float64\n",
       "Loan_Amount_Term      object\n",
       "Loan_ID               object\n",
       "Loan_Status           object\n",
       "Married               object\n",
       "Property_Area         object\n",
       "Self_Employed         object\n",
       "source                object\n",
       "dtype: object"
      ]
     },
     "execution_count": 36,
     "metadata": {},
     "output_type": "execute_result"
    }
   ],
   "source": [
    "combine.dtypes"
   ]
  },
  {
   "cell_type": "code",
   "execution_count": 249,
   "metadata": {
    "collapsed": false
   },
   "outputs": [
    {
     "name": "stdout",
     "output_type": "stream",
     "text": [
      "\n",
      "Frequency of Categories for Variables Credit_History\n",
      "1.0    754\n",
      "0.0    148\n",
      "nan     79\n",
      "Name: Credit_History, dtype: int64\n",
      "\n",
      "Frequency of Categories for Variables Dependents\n",
      "0     545\n",
      "1     160\n",
      "2     160\n",
      "3+     91\n",
      "Name: Dependents, dtype: int64\n",
      "\n",
      "Frequency of Categories for Variables Education\n",
      "Graduate        763\n",
      "Not Graduate    218\n",
      "Name: Education, dtype: int64\n",
      "\n",
      "Frequency of Categories for Variables Gender\n",
      "Male      799\n",
      "Female    182\n",
      "Name: Gender, dtype: int64\n",
      "\n",
      "Frequency of Categories for Variables Loan_Amount_Term\n",
      "360.0    823\n",
      "180.0     66\n",
      "480.0     23\n",
      "nan       20\n",
      "300.0     20\n",
      "240.0      8\n",
      "84.0       7\n",
      "120.0      4\n",
      "60.0       3\n",
      "36.0       3\n",
      "12.0       2\n",
      "6.0        1\n",
      "350.0      1\n",
      "Name: Loan_Amount_Term, dtype: int64\n",
      "\n",
      "Frequency of Categories for Variables Married\n",
      "Yes    634\n",
      "No     347\n",
      "Name: Married, dtype: int64\n",
      "\n",
      "Frequency of Categories for Variables Property_Area\n",
      "Semiurban    349\n",
      "Urban        342\n",
      "Rural        290\n",
      "Name: Property_Area, dtype: int64\n",
      "\n",
      "Frequency of Categories for Variables Self_Employed\n",
      "No     862\n",
      "Yes    119\n",
      "Name: Self_Employed, dtype: int64\n"
     ]
    }
   ],
   "source": [
    "#Filter Categorical variables\n",
    "categorical_variables=[x for x in combine.dtypes.index if combine.dtypes[x]=='object']\n",
    "categorical_variables=[x for x in categorical_variables if x not in ['source','Loan_Status','Loan_ID']]\n",
    "\n",
    "                       \n",
    "for col in categorical_variables:\n",
    "    print ('\\nFrequency of Categories for Variables %s' %col)\n",
    "    print (combine[col].value_counts())"
   ]
  },
  {
   "cell_type": "code",
   "execution_count": 38,
   "metadata": {
    "collapsed": false
   },
   "outputs": [],
   "source": [
    "#data.apply(lambda x: sum(x.isnull()),axis=1).head()"
   ]
  },
  {
   "cell_type": "markdown",
   "metadata": {},
   "source": [
    "#### Fill Missing value for Gender Educaton Self_Employed"
   ]
  },
  {
   "cell_type": "code",
   "execution_count": 39,
   "metadata": {
    "collapsed": false
   },
   "outputs": [],
   "source": [
    "#import stats.mode to determine the mode of column\n",
    "from scipy import stats\n",
    "from scipy.stats import mode"
   ]
  },
  {
   "cell_type": "code",
   "execution_count": 40,
   "metadata": {
    "collapsed": false
   },
   "outputs": [
    {
     "name": "stderr",
     "output_type": "stream",
     "text": [
      "C:\\Users\\zfang\\AppData\\Local\\Continuum\\Anaconda3\\lib\\site-packages\\scipy\\stats\\stats.py:250: RuntimeWarning: The input array could not be properly checked for nan values. nan values will be ignored.\n",
      "  \"values. nan values will be ignored.\", RuntimeWarning)\n"
     ]
    },
    {
     "data": {
      "text/plain": [
       "ModeResult(mode=array(['Male'], dtype=object), count=array([775]))"
      ]
     },
     "execution_count": 40,
     "metadata": {},
     "output_type": "execute_result"
    }
   ],
   "source": [
    "#This returns both mode and count.\n",
    "stats.mode(combine['Gender'].dropna())"
   ]
  },
  {
   "cell_type": "code",
   "execution_count": 41,
   "metadata": {
    "collapsed": false
   },
   "outputs": [
    {
     "name": "stderr",
     "output_type": "stream",
     "text": [
      "C:\\Users\\zfang\\AppData\\Local\\Continuum\\Anaconda3\\lib\\site-packages\\scipy\\stats\\stats.py:250: RuntimeWarning: The input array could not be properly checked for nan values. nan values will be ignored.\n",
      "  \"values. nan values will be ignored.\", RuntimeWarning)\n"
     ]
    }
   ],
   "source": [
    "Gmode=stats.mode(combine['Gender'].dropna()).mode[0]\n",
    "Mmode=stats.mode(combine['Married'].dropna()).mode[0]\n",
    "Emode=stats.mode(combine['Self_Employed'].dropna()).mode[0]"
   ]
  },
  {
   "cell_type": "code",
   "execution_count": 42,
   "metadata": {
    "collapsed": false
   },
   "outputs": [],
   "source": [
    "#fill the missing values for Gender\n",
    "\n",
    "combine['Gender'].fillna(Gmode,inplace=True)\n",
    "combine['Married'].fillna(Mmode,inplace=True)\n",
    "combine['Self_Employed'].fillna(Emode,inplace=True)"
   ]
  },
  {
   "cell_type": "code",
   "execution_count": 43,
   "metadata": {
    "collapsed": false
   },
   "outputs": [
    {
     "data": {
      "text/plain": [
       "ApplicantIncome        0\n",
       "CoapplicantIncome      0\n",
       "Credit_History         0\n",
       "Dependents            25\n",
       "Education              0\n",
       "Gender                 0\n",
       "LoanAmount            27\n",
       "Loan_Amount_Term       0\n",
       "Loan_ID                0\n",
       "Loan_Status          367\n",
       "Married                0\n",
       "Property_Area          0\n",
       "Self_Employed          0\n",
       "source                 0\n",
       "dtype: int64"
      ]
     },
     "execution_count": 43,
     "metadata": {},
     "output_type": "execute_result"
    }
   ],
   "source": [
    "#Check whether the missing values imputed successfully\n",
    "combine.apply(lambda x: sum(x.isnull()))"
   ]
  },
  {
   "cell_type": "code",
   "execution_count": 44,
   "metadata": {
    "collapsed": false
   },
   "outputs": [],
   "source": [
    "combine_clean=combine.dropna(subset=['Loan_Amount_Term'])"
   ]
  },
  {
   "cell_type": "code",
   "execution_count": 45,
   "metadata": {
    "collapsed": false
   },
   "outputs": [
    {
     "data": {
      "text/plain": [
       "ApplicantIncome        0\n",
       "CoapplicantIncome      0\n",
       "Credit_History         0\n",
       "Dependents            25\n",
       "Education              0\n",
       "Gender                 0\n",
       "LoanAmount            27\n",
       "Loan_Amount_Term       0\n",
       "Loan_ID                0\n",
       "Loan_Status          367\n",
       "Married                0\n",
       "Property_Area          0\n",
       "Self_Employed          0\n",
       "source                 0\n",
       "dtype: int64"
      ]
     },
     "execution_count": 45,
     "metadata": {},
     "output_type": "execute_result"
    }
   ],
   "source": [
    "combine_clean.apply(lambda x: sum(x.isnull()))"
   ]
  },
  {
   "cell_type": "code",
   "execution_count": 46,
   "metadata": {
    "collapsed": false
   },
   "outputs": [
    {
     "data": {
      "text/plain": [
       "ApplicantIncome        int64\n",
       "CoapplicantIncome    float64\n",
       "Credit_History        object\n",
       "Dependents            object\n",
       "Education             object\n",
       "Gender                object\n",
       "LoanAmount           float64\n",
       "Loan_Amount_Term      object\n",
       "Loan_ID               object\n",
       "Loan_Status           object\n",
       "Married               object\n",
       "Property_Area         object\n",
       "Self_Employed         object\n",
       "source                object\n",
       "dtype: object"
      ]
     },
     "execution_count": 46,
     "metadata": {},
     "output_type": "execute_result"
    }
   ],
   "source": [
    "combine_clean.dtypes"
   ]
  },
  {
   "cell_type": "markdown",
   "metadata": {},
   "source": [
    "#### Create New Category in term of Loan_Amount_Term"
   ]
  },
  {
   "cell_type": "code",
   "execution_count": 47,
   "metadata": {
    "collapsed": false
   },
   "outputs": [],
   "source": [
    "combine_clean.Loan_Amount_Term.replace('nan',np.nan,inplace=True)"
   ]
  },
  {
   "cell_type": "code",
   "execution_count": 48,
   "metadata": {
    "collapsed": false
   },
   "outputs": [
    {
     "name": "stderr",
     "output_type": "stream",
     "text": [
      "C:\\Users\\zfang\\AppData\\Local\\Continuum\\Anaconda3\\lib\\site-packages\\scipy\\stats\\stats.py:250: RuntimeWarning: The input array could not be properly checked for nan values. nan values will be ignored.\n",
      "  \"values. nan values will be ignored.\", RuntimeWarning)\n"
     ]
    }
   ],
   "source": [
    "loan_amount_term_mode=combine_clean.pivot_table(values='Loan_Amount_Term',index='Married',aggfunc=(lambda\n",
    "                      x: mode(x.dropna()).mode[0]))"
   ]
  },
  {
   "cell_type": "code",
   "execution_count": 49,
   "metadata": {
    "collapsed": true
   },
   "outputs": [],
   "source": [
    "loan_amount_bool=combine_clean.Loan_Amount_Term.isnull()"
   ]
  },
  {
   "cell_type": "code",
   "execution_count": 50,
   "metadata": {
    "collapsed": false
   },
   "outputs": [],
   "source": [
    "combine_clean.loc[loan_amount_bool,'Loan_Amount_Term']=combine_clean.loc[loan_amount_bool,'Married'].apply(lambda x:\n",
    "                                                       loan_amount_term_mode[0])"
   ]
  },
  {
   "cell_type": "code",
   "execution_count": 51,
   "metadata": {
    "collapsed": false
   },
   "outputs": [
    {
     "data": {
      "text/plain": [
       "360.0    843\n",
       "180.0     66\n",
       "480.0     23\n",
       "300.0     20\n",
       "240.0      8\n",
       "84.0       7\n",
       "120.0      4\n",
       "60.0       3\n",
       "36.0       3\n",
       "12.0       2\n",
       "6.0        1\n",
       "350.0      1\n",
       "Name: Loan_Amount_Term, dtype: int64"
      ]
     },
     "execution_count": 51,
     "metadata": {},
     "output_type": "execute_result"
    }
   ],
   "source": [
    "combine_clean.Loan_Amount_Term.value_counts()"
   ]
  },
  {
   "cell_type": "code",
   "execution_count": 52,
   "metadata": {
    "collapsed": false
   },
   "outputs": [],
   "source": [
    "combine_clean['Loan_Amount_Term_Combined']=\\\n",
    "        combine_clean['Loan_Amount_Term'].map(\n",
    "    {'180.0':'short',\n",
    "     '240.0':'short',\n",
    "     '300.0':'short',\n",
    "     '84.0':'short',\n",
    "     '120.0':'short',\n",
    "     '60.0':'short',\n",
    "     '36.0':'short',\n",
    "     '12.0':'short',\n",
    "     '6.0':'short',\n",
    "     '360.0':'long',\n",
    "     '350.0':'long',\n",
    "     '480.0':'long'})"
   ]
  },
  {
   "cell_type": "code",
   "execution_count": 53,
   "metadata": {
    "collapsed": false
   },
   "outputs": [
    {
     "data": {
      "text/plain": [
       "long     867\n",
       "short    114\n",
       "Name: Loan_Amount_Term_Combined, dtype: int64"
      ]
     },
     "execution_count": 53,
     "metadata": {},
     "output_type": "execute_result"
    }
   ],
   "source": [
    "combine_clean['Loan_Amount_Term_Combined'].value_counts()"
   ]
  },
  {
   "cell_type": "markdown",
   "metadata": {},
   "source": [
    "#### Fill in Dependents by Mode value"
   ]
  },
  {
   "cell_type": "code",
   "execution_count": 54,
   "metadata": {
    "collapsed": false
   },
   "outputs": [
    {
     "name": "stderr",
     "output_type": "stream",
     "text": [
      "C:\\Users\\zfang\\AppData\\Local\\Continuum\\Anaconda3\\lib\\site-packages\\scipy\\stats\\stats.py:250: RuntimeWarning: The input array could not be properly checked for nan values. nan values will be ignored.\n",
      "  \"values. nan values will be ignored.\", RuntimeWarning)\n"
     ]
    }
   ],
   "source": [
    "from scipy.stats import mode\n",
    "dependents_mode=combine_clean.pivot_table(values=\n",
    "        'Dependents',index='Education',\n",
    "        aggfunc=(lambda x: mode(x.dropna()).mode[0]))"
   ]
  },
  {
   "cell_type": "code",
   "execution_count": 55,
   "metadata": {
    "collapsed": false
   },
   "outputs": [
    {
     "data": {
      "text/plain": [
       "Education\n",
       "Graduate        0\n",
       "Not Graduate    0\n",
       "Name: Dependents, dtype: object"
      ]
     },
     "execution_count": 55,
     "metadata": {},
     "output_type": "execute_result"
    }
   ],
   "source": [
    "dependents_mode"
   ]
  },
  {
   "cell_type": "code",
   "execution_count": 56,
   "metadata": {
    "collapsed": true
   },
   "outputs": [],
   "source": [
    "miss_dependents_bool=combine_clean['Dependents'].isnull()"
   ]
  },
  {
   "cell_type": "code",
   "execution_count": 57,
   "metadata": {
    "collapsed": false
   },
   "outputs": [],
   "source": [
    "combine_clean.loc[miss_dependents_bool,'Dependents']=combine_clean.loc[miss_dependents_bool,\n",
    "                               'Education'].apply(lambda x: dependents_mode[x])"
   ]
  },
  {
   "cell_type": "markdown",
   "metadata": {},
   "source": [
    "#### Fill in Credit_History by Mode value"
   ]
  },
  {
   "cell_type": "code",
   "execution_count": 58,
   "metadata": {
    "collapsed": true
   },
   "outputs": [],
   "source": [
    "combine_clean.Credit_History.replace('nan',np.nan,inplace=True)"
   ]
  },
  {
   "cell_type": "code",
   "execution_count": 59,
   "metadata": {
    "collapsed": false
   },
   "outputs": [
    {
     "name": "stderr",
     "output_type": "stream",
     "text": [
      "C:\\Users\\zfang\\AppData\\Local\\Continuum\\Anaconda3\\lib\\site-packages\\scipy\\stats\\stats.py:250: RuntimeWarning: The input array could not be properly checked for nan values. nan values will be ignored.\n",
      "  \"values. nan values will be ignored.\", RuntimeWarning)\n"
     ]
    }
   ],
   "source": [
    "credit_mode=combine_clean.pivot_table(values='Credit_History',index='Married',aggfunc=(lambda x:\n",
    "                                                                                      mode(x.dropna()).mode[0]))"
   ]
  },
  {
   "cell_type": "code",
   "execution_count": 60,
   "metadata": {
    "collapsed": false
   },
   "outputs": [
    {
     "data": {
      "text/plain": [
       "Married\n",
       "No     1.0\n",
       "Yes    1.0\n",
       "Name: Credit_History, dtype: object"
      ]
     },
     "execution_count": 60,
     "metadata": {},
     "output_type": "execute_result"
    }
   ],
   "source": [
    "credit_mode"
   ]
  },
  {
   "cell_type": "code",
   "execution_count": 61,
   "metadata": {
    "collapsed": true
   },
   "outputs": [],
   "source": [
    "miss_credit_bool=combine_clean.Credit_History.isnull()"
   ]
  },
  {
   "cell_type": "code",
   "execution_count": 62,
   "metadata": {
    "collapsed": true
   },
   "outputs": [],
   "source": [
    "combine_clean.loc[miss_credit_bool,'Credit_History']=combine_clean.loc[miss_credit_bool,'Married'].apply(lambda x:\n",
    "                                                     credit_mode[x])"
   ]
  },
  {
   "cell_type": "markdown",
   "metadata": {},
   "source": [
    "##### ~~combine_clean.loc[(combine_clean.Credit_History.isnull())&(combine_clean.Married=='Yes'),'Credit_History']=1~~"
   ]
  },
  {
   "cell_type": "code",
   "execution_count": 63,
   "metadata": {
    "collapsed": false
   },
   "outputs": [
    {
     "data": {
      "text/plain": [
       "1.0    833\n",
       "0.0    148\n",
       "Name: Credit_History, dtype: int64"
      ]
     },
     "execution_count": 63,
     "metadata": {},
     "output_type": "execute_result"
    }
   ],
   "source": [
    "combine_clean.Credit_History.value_counts()"
   ]
  },
  {
   "cell_type": "code",
   "execution_count": 64,
   "metadata": {
    "collapsed": false
   },
   "outputs": [
    {
     "data": {
      "text/plain": [
       "ApplicantIncome                0\n",
       "CoapplicantIncome              0\n",
       "Credit_History                 0\n",
       "Dependents                     0\n",
       "Education                      0\n",
       "Gender                         0\n",
       "LoanAmount                    27\n",
       "Loan_Amount_Term               0\n",
       "Loan_ID                        0\n",
       "Loan_Status                  367\n",
       "Married                        0\n",
       "Property_Area                  0\n",
       "Self_Employed                  0\n",
       "source                         0\n",
       "Loan_Amount_Term_Combined      0\n",
       "dtype: int64"
      ]
     },
     "execution_count": 64,
     "metadata": {},
     "output_type": "execute_result"
    }
   ],
   "source": [
    "combine_clean.apply(lambda x: sum(x.isnull()))"
   ]
  },
  {
   "cell_type": "markdown",
   "metadata": {
    "collapsed": false
   },
   "source": [
    "##### ~~combine_clean=combine_clean.dropna(subset=['Loan_Amount_Term_Combined'])~~"
   ]
  },
  {
   "cell_type": "code",
   "execution_count": 65,
   "metadata": {
    "collapsed": false
   },
   "outputs": [],
   "source": [
    "#combine['Loan_Amount_Term']=combine.groupby(['Gender','Married']).transform(lambda\n",
    "#                            x: x.fillna(x.mode()[0]))['Loan_Amount_Term']"
   ]
  },
  {
   "cell_type": "code",
   "execution_count": 66,
   "metadata": {
    "collapsed": false
   },
   "outputs": [],
   "source": [
    "#combine.apply(lambda x: sum(x.isnull()))"
   ]
  },
  {
   "cell_type": "markdown",
   "metadata": {},
   "source": [
    "####  Fill in missing value for LoanAmount by mean of *Gender*, **Married** and **self_Employed**"
   ]
  },
  {
   "cell_type": "code",
   "execution_count": 67,
   "metadata": {
    "collapsed": false
   },
   "outputs": [],
   "source": [
    "#Imput missing values for numerical variables\n",
    "#Create pivot table \n",
    "#impute_groups=data.pivot_table(values=['LoanAmount'],\n",
    "#              index=['Gender','Married','Self_Employed'],\n",
    "#              aggfunc=np.mean)\n",
    "# groupby is faster than pivot_table\n",
    "impute_groups=combine_clean.groupby(['Gender','Married','Self_Employed'])['LoanAmount'].mean()"
   ]
  },
  {
   "cell_type": "code",
   "execution_count": 68,
   "metadata": {
    "collapsed": false
   },
   "outputs": [
    {
     "name": "stdout",
     "output_type": "stream",
     "text": [
      "Gender  Married  Self_Employed\n",
      "Female  No       No               114.527778\n",
      "                 Yes              138.714286\n",
      "        Yes      No               136.903846\n",
      "                 Yes              282.250000\n",
      "Male    No       No               126.601036\n",
      "                 Yes              163.960000\n",
      "        Yes      No               150.286598\n",
      "                 Yes              164.041096\n",
      "Name: LoanAmount, dtype: float64\n"
     ]
    }
   ],
   "source": [
    "print (impute_groups)"
   ]
  },
  {
   "cell_type": "code",
   "execution_count": 69,
   "metadata": {
    "collapsed": false
   },
   "outputs": [],
   "source": [
    "for i,row in combine_clean.loc[combine_clean['LoanAmount'].isnull(),:].iterrows():\n",
    "    ind=tuple([row['Gender'],row['Married'],row['Self_Employed']])\n",
    "    combine_clean.loc[i,'LoanAmount']=impute_groups.loc[ind]\n",
    "   \n",
    "    \n",
    "    \n",
    "    "
   ]
  },
  {
   "cell_type": "code",
   "execution_count": 70,
   "metadata": {
    "collapsed": false
   },
   "outputs": [
    {
     "data": {
      "text/plain": [
       "ApplicantIncome                0\n",
       "CoapplicantIncome              0\n",
       "Credit_History                 0\n",
       "Dependents                     0\n",
       "Education                      0\n",
       "Gender                         0\n",
       "LoanAmount                     0\n",
       "Loan_Amount_Term               0\n",
       "Loan_ID                        0\n",
       "Loan_Status                  367\n",
       "Married                        0\n",
       "Property_Area                  0\n",
       "Self_Employed                  0\n",
       "source                         0\n",
       "Loan_Amount_Term_Combined      0\n",
       "dtype: int64"
      ]
     },
     "execution_count": 70,
     "metadata": {},
     "output_type": "execute_result"
    }
   ],
   "source": [
    "combine_clean.apply(lambda x: sum(x.isnull()))"
   ]
  },
  {
   "cell_type": "code",
   "execution_count": 71,
   "metadata": {
    "collapsed": false
   },
   "outputs": [
    {
     "data": {
      "text/html": [
       "<div>\n",
       "<table border=\"1\" class=\"dataframe\">\n",
       "  <thead>\n",
       "    <tr style=\"text-align: right;\">\n",
       "      <th></th>\n",
       "      <th>ApplicantIncome</th>\n",
       "      <th>CoapplicantIncome</th>\n",
       "      <th>LoanAmount</th>\n",
       "    </tr>\n",
       "  </thead>\n",
       "  <tbody>\n",
       "    <tr>\n",
       "      <th>count</th>\n",
       "      <td>981.000000</td>\n",
       "      <td>981.000000</td>\n",
       "      <td>981.000000</td>\n",
       "    </tr>\n",
       "    <tr>\n",
       "      <th>mean</th>\n",
       "      <td>5179.795107</td>\n",
       "      <td>1601.916330</td>\n",
       "      <td>142.557312</td>\n",
       "    </tr>\n",
       "    <tr>\n",
       "      <th>std</th>\n",
       "      <td>5695.104533</td>\n",
       "      <td>2718.772806</td>\n",
       "      <td>76.374619</td>\n",
       "    </tr>\n",
       "    <tr>\n",
       "      <th>min</th>\n",
       "      <td>0.000000</td>\n",
       "      <td>0.000000</td>\n",
       "      <td>9.000000</td>\n",
       "    </tr>\n",
       "    <tr>\n",
       "      <th>25%</th>\n",
       "      <td>2875.000000</td>\n",
       "      <td>0.000000</td>\n",
       "      <td>101.000000</td>\n",
       "    </tr>\n",
       "    <tr>\n",
       "      <th>50%</th>\n",
       "      <td>3800.000000</td>\n",
       "      <td>1110.000000</td>\n",
       "      <td>128.000000</td>\n",
       "    </tr>\n",
       "    <tr>\n",
       "      <th>75%</th>\n",
       "      <td>5516.000000</td>\n",
       "      <td>2365.000000</td>\n",
       "      <td>160.000000</td>\n",
       "    </tr>\n",
       "    <tr>\n",
       "      <th>max</th>\n",
       "      <td>81000.000000</td>\n",
       "      <td>41667.000000</td>\n",
       "      <td>700.000000</td>\n",
       "    </tr>\n",
       "  </tbody>\n",
       "</table>\n",
       "</div>"
      ],
      "text/plain": [
       "       ApplicantIncome  CoapplicantIncome  LoanAmount\n",
       "count       981.000000         981.000000  981.000000\n",
       "mean       5179.795107        1601.916330  142.557312\n",
       "std        5695.104533        2718.772806   76.374619\n",
       "min           0.000000           0.000000    9.000000\n",
       "25%        2875.000000           0.000000  101.000000\n",
       "50%        3800.000000        1110.000000  128.000000\n",
       "75%        5516.000000        2365.000000  160.000000\n",
       "max       81000.000000       41667.000000  700.000000"
      ]
     },
     "execution_count": 71,
     "metadata": {},
     "output_type": "execute_result"
    }
   ],
   "source": [
    "combine_clean.describe()"
   ]
  },
  {
   "cell_type": "markdown",
   "metadata": {},
   "source": [
    "## Data Clean Done"
   ]
  },
  {
   "cell_type": "markdown",
   "metadata": {},
   "source": [
    "# Further Exploratory"
   ]
  },
  {
   "cell_type": "markdown",
   "metadata": {},
   "source": [
    "Test"
   ]
  },
  {
   "cell_type": "code",
   "execution_count": 72,
   "metadata": {
    "collapsed": true
   },
   "outputs": [],
   "source": [
    "#combine_clean.keys() is the same as combine_clean.dtypes.index"
   ]
  },
  {
   "cell_type": "code",
   "execution_count": 73,
   "metadata": {
    "collapsed": false
   },
   "outputs": [],
   "source": [
    "#from math import * \n",
    "import math as m"
   ]
  },
  {
   "cell_type": "code",
   "execution_count": 74,
   "metadata": {
    "collapsed": false
   },
   "outputs": [
    {
     "data": {
      "text/plain": [
       "120"
      ]
     },
     "execution_count": 74,
     "metadata": {},
     "output_type": "execute_result"
    }
   ],
   "source": [
    "m.factorial(5)"
   ]
  },
  {
   "cell_type": "code",
   "execution_count": 75,
   "metadata": {
    "collapsed": false
   },
   "outputs": [
    {
     "data": {
      "text/plain": [
       "[<matplotlib.lines.Line2D at 0x1d68e901dd8>]"
      ]
     },
     "execution_count": 75,
     "metadata": {},
     "output_type": "execute_result"
    },
    {
     "data": {
      "image/png": "[encoded data removed]",
      "text/plain": [
       "<matplotlib.figure.Figure at 0x1d68e846198>"
      ]
     },
     "metadata": {},
     "output_type": "display_data"
    }
   ],
   "source": [
    "plt.plot(range(5))"
   ]
  },
  {
   "cell_type": "markdown",
   "metadata": {},
   "source": [
    "#### Distribution Analysis"
   ]
  },
  {
   "cell_type": "code",
   "execution_count": 76,
   "metadata": {
    "collapsed": false
   },
   "outputs": [
    {
     "data": {
      "text/plain": [
       "<matplotlib.axes._subplots.AxesSubplot at 0x1d68e8c9160>"
      ]
     },
     "execution_count": 76,
     "metadata": {},
     "output_type": "execute_result"
    },
    {
     "data": {
      "image/png": "[encoded data removed]",
      "text/plain": [
       "<matplotlib.figure.Figure at 0x1d68e8dc438>"
      ]
     },
     "metadata": {},
     "output_type": "display_data"
    }
   ],
   "source": [
    "#Histogram Distribution\n",
    "combine_clean['ApplicantIncome'].hist(bins=50)"
   ]
  },
  {
   "cell_type": "code",
   "execution_count": 77,
   "metadata": {
    "collapsed": false
   },
   "outputs": [
    {
     "data": {
      "text/plain": [
       "<matplotlib.axes._subplots.AxesSubplot at 0x1d68e9c2c88>"
      ]
     },
     "execution_count": 77,
     "metadata": {},
     "output_type": "execute_result"
    },
    {
     "data": {
      "image/png": "[encoded data removed]",
      "text/plain": [
       "<matplotlib.figure.Figure at 0x1d68e8dc898>"
      ]
     },
     "metadata": {},
     "output_type": "display_data"
    }
   ],
   "source": [
    "#Box plots to understand the disctributions to confirm Outliers\n",
    "combine_clean.boxplot(column='ApplicantIncome')"
   ]
  },
  {
   "cell_type": "code",
   "execution_count": 78,
   "metadata": {
    "collapsed": false
   },
   "outputs": [
    {
     "data": {
      "text/plain": [
       "<matplotlib.axes._subplots.AxesSubplot at 0x1d68ea90ef0>"
      ]
     },
     "execution_count": 78,
     "metadata": {},
     "output_type": "execute_result"
    },
    {
     "data": {
      "image/png": "[encoded data removed]",
      "text/plain": [
       "<matplotlib.figure.Figure at 0x1d68eaeb668>"
      ]
     },
     "metadata": {},
     "output_type": "display_data"
    }
   ],
   "source": [
    "combine_clean.boxplot(column='ApplicantIncome',by='Married')"
   ]
  },
  {
   "cell_type": "code",
   "execution_count": 79,
   "metadata": {
    "collapsed": false
   },
   "outputs": [
    {
     "data": {
      "text/plain": [
       "array([[<matplotlib.axes._subplots.AxesSubplot object at 0x000001D68EB12C50>]], dtype=object)"
      ]
     },
     "execution_count": 79,
     "metadata": {},
     "output_type": "execute_result"
    },
    {
     "data": {
      "image/png": "[encoded data removed]",
      "text/plain": [
       "<matplotlib.figure.Figure at 0x1d68eb7a6a0>"
      ]
     },
     "metadata": {},
     "output_type": "display_data"
    }
   ],
   "source": [
    "combine_clean.hist(column='LoanAmount',bins=50)"
   ]
  },
  {
   "cell_type": "code",
   "execution_count": 80,
   "metadata": {
    "collapsed": false
   },
   "outputs": [
    {
     "data": {
      "text/plain": [
       "<matplotlib.axes._subplots.AxesSubplot at 0x1d68ec8bc88>"
      ]
     },
     "execution_count": 80,
     "metadata": {},
     "output_type": "execute_result"
    },
    {
     "data": {
      "image/png": "[encoded data removed]",
      "text/plain": [
       "<matplotlib.figure.Figure at 0x1d68ec991d0>"
      ]
     },
     "metadata": {},
     "output_type": "display_data"
    }
   ],
   "source": [
    "combine_clean.boxplot(column='LoanAmount')"
   ]
  },
  {
   "cell_type": "code",
   "execution_count": 81,
   "metadata": {
    "collapsed": false
   },
   "outputs": [
    {
     "data": {
      "text/plain": [
       "<matplotlib.axes._subplots.AxesSubplot at 0x1d68ecbc908>"
      ]
     },
     "execution_count": 81,
     "metadata": {},
     "output_type": "execute_result"
    },
    {
     "data": {
      "image/png": "[encoded data removed]",
      "text/plain": [
       "<matplotlib.figure.Figure at 0x1d68ecc40f0>"
      ]
     },
     "metadata": {},
     "output_type": "display_data"
    }
   ],
   "source": [
    "combine_clean.boxplot(column='LoanAmount',by='Education')"
   ]
  },
  {
   "cell_type": "markdown",
   "metadata": {},
   "source": [
    "####  Categorical Variable Analysis, frequency analysis "
   ]
  },
  {
   "cell_type": "code",
   "execution_count": 82,
   "metadata": {
    "collapsed": false
   },
   "outputs": [
    {
     "data": {
      "text/html": [
       "<div>\n",
       "<table border=\"1\" class=\"dataframe\">\n",
       "  <thead>\n",
       "    <tr style=\"text-align: right;\">\n",
       "      <th>Loan_Status</th>\n",
       "      <th>N</th>\n",
       "      <th>Y</th>\n",
       "      <th>All</th>\n",
       "    </tr>\n",
       "    <tr>\n",
       "      <th>Credit_History</th>\n",
       "      <th></th>\n",
       "      <th></th>\n",
       "      <th></th>\n",
       "    </tr>\n",
       "  </thead>\n",
       "  <tbody>\n",
       "    <tr>\n",
       "      <th>0.0</th>\n",
       "      <td>0.921348</td>\n",
       "      <td>0.078652</td>\n",
       "      <td>1.0</td>\n",
       "    </tr>\n",
       "    <tr>\n",
       "      <th>1.0</th>\n",
       "      <td>0.209524</td>\n",
       "      <td>0.790476</td>\n",
       "      <td>1.0</td>\n",
       "    </tr>\n",
       "    <tr>\n",
       "      <th>All</th>\n",
       "      <td>0.312704</td>\n",
       "      <td>0.687296</td>\n",
       "      <td>1.0</td>\n",
       "    </tr>\n",
       "  </tbody>\n",
       "</table>\n",
       "</div>"
      ],
      "text/plain": [
       "Loan_Status            N         Y  All\n",
       "Credit_History                         \n",
       "0.0             0.921348  0.078652  1.0\n",
       "1.0             0.209524  0.790476  1.0\n",
       "All             0.312704  0.687296  1.0"
      ]
     },
     "execution_count": 82,
     "metadata": {},
     "output_type": "execute_result"
    }
   ],
   "source": [
    "pd.crosstab(combine_clean.Credit_History,combine_clean.Loan_Status,margins=True).apply(lambda x:x/float(x[-1]),axis=1)"
   ]
  },
  {
   "cell_type": "code",
   "execution_count": 83,
   "metadata": {
    "collapsed": false
   },
   "outputs": [
    {
     "data": {
      "text/plain": [
       "<matplotlib.axes._subplots.AxesSubplot at 0x1d68ecbc588>"
      ]
     },
     "execution_count": 83,
     "metadata": {},
     "output_type": "execute_result"
    },
    {
     "data": {
      "image/png": "[encoded data removed]",
      "text/plain": [
       "<matplotlib.figure.Figure at 0x1d68ed32358>"
      ]
     },
     "metadata": {},
     "output_type": "display_data"
    }
   ],
   "source": [
    "combine_clean.boxplot(column='LoanAmount',by=['Education','Self_Employed'])"
   ]
  },
  {
   "cell_type": "markdown",
   "metadata": {},
   "source": [
    "## Modeling"
   ]
  },
  {
   "cell_type": "markdown",
   "metadata": {},
   "source": [
    "#### Transform categorical var to numerical var"
   ]
  },
  {
   "cell_type": "code",
   "execution_count": 84,
   "metadata": {
    "collapsed": false
   },
   "outputs": [
    {
     "data": {
      "text/plain": [
       "Index(['ApplicantIncome', 'CoapplicantIncome', 'Credit_History', 'Dependents',\n",
       "       'Education', 'Gender', 'LoanAmount', 'Loan_Amount_Term', 'Loan_ID',\n",
       "       'Loan_Status', 'Married', 'Property_Area', 'Self_Employed', 'source',\n",
       "       'Loan_Amount_Term_Combined'],\n",
       "      dtype='object')"
      ]
     },
     "execution_count": 84,
     "metadata": {},
     "output_type": "execute_result"
    }
   ],
   "source": [
    "combine_clean.dtypes.index"
   ]
  },
  {
   "cell_type": "code",
   "execution_count": 85,
   "metadata": {
    "collapsed": true
   },
   "outputs": [],
   "source": [
    "from sklearn.preprocessing import LabelEncoder"
   ]
  },
  {
   "cell_type": "code",
   "execution_count": 86,
   "metadata": {
    "collapsed": true
   },
   "outputs": [],
   "source": [
    "le=LabelEncoder()"
   ]
  },
  {
   "cell_type": "code",
   "execution_count": 87,
   "metadata": {
    "collapsed": true
   },
   "outputs": [],
   "source": [
    "var_mod=['Credit_History', 'Dependents','Education', 'Gender','Married', 'Property_Area', 'Self_Employed','Loan_Amount_Term_Combined']"
   ]
  },
  {
   "cell_type": "code",
   "execution_count": 88,
   "metadata": {
    "collapsed": true
   },
   "outputs": [],
   "source": [
    "for col in var_mod:\n",
    "    combine_clean[col]=le.fit_transform(combine_clean[col])"
   ]
  },
  {
   "cell_type": "code",
   "execution_count": 89,
   "metadata": {
    "collapsed": false
   },
   "outputs": [
    {
     "data": {
      "text/html": [
       "<div>\n",
       "<table border=\"1\" class=\"dataframe\">\n",
       "  <thead>\n",
       "    <tr style=\"text-align: right;\">\n",
       "      <th></th>\n",
       "      <th>ApplicantIncome</th>\n",
       "      <th>CoapplicantIncome</th>\n",
       "      <th>Credit_History</th>\n",
       "      <th>Dependents</th>\n",
       "      <th>Education</th>\n",
       "      <th>Gender</th>\n",
       "      <th>LoanAmount</th>\n",
       "      <th>Loan_Amount_Term</th>\n",
       "      <th>Loan_ID</th>\n",
       "      <th>Loan_Status</th>\n",
       "      <th>Married</th>\n",
       "      <th>Property_Area</th>\n",
       "      <th>Self_Employed</th>\n",
       "      <th>source</th>\n",
       "      <th>Loan_Amount_Term_Combined</th>\n",
       "    </tr>\n",
       "  </thead>\n",
       "  <tbody>\n",
       "    <tr>\n",
       "      <th>0</th>\n",
       "      <td>5849</td>\n",
       "      <td>0.0</td>\n",
       "      <td>1</td>\n",
       "      <td>0</td>\n",
       "      <td>0</td>\n",
       "      <td>1</td>\n",
       "      <td>126.601036</td>\n",
       "      <td>360.0</td>\n",
       "      <td>LP001002</td>\n",
       "      <td>Y</td>\n",
       "      <td>0</td>\n",
       "      <td>2</td>\n",
       "      <td>0</td>\n",
       "      <td>train</td>\n",
       "      <td>0</td>\n",
       "    </tr>\n",
       "    <tr>\n",
       "      <th>1</th>\n",
       "      <td>4583</td>\n",
       "      <td>1508.0</td>\n",
       "      <td>1</td>\n",
       "      <td>1</td>\n",
       "      <td>0</td>\n",
       "      <td>1</td>\n",
       "      <td>128.000000</td>\n",
       "      <td>360.0</td>\n",
       "      <td>LP001003</td>\n",
       "      <td>N</td>\n",
       "      <td>1</td>\n",
       "      <td>0</td>\n",
       "      <td>0</td>\n",
       "      <td>train</td>\n",
       "      <td>0</td>\n",
       "    </tr>\n",
       "    <tr>\n",
       "      <th>2</th>\n",
       "      <td>3000</td>\n",
       "      <td>0.0</td>\n",
       "      <td>1</td>\n",
       "      <td>0</td>\n",
       "      <td>0</td>\n",
       "      <td>1</td>\n",
       "      <td>66.000000</td>\n",
       "      <td>360.0</td>\n",
       "      <td>LP001005</td>\n",
       "      <td>Y</td>\n",
       "      <td>1</td>\n",
       "      <td>2</td>\n",
       "      <td>1</td>\n",
       "      <td>train</td>\n",
       "      <td>0</td>\n",
       "    </tr>\n",
       "    <tr>\n",
       "      <th>3</th>\n",
       "      <td>2583</td>\n",
       "      <td>2358.0</td>\n",
       "      <td>1</td>\n",
       "      <td>0</td>\n",
       "      <td>1</td>\n",
       "      <td>1</td>\n",
       "      <td>120.000000</td>\n",
       "      <td>360.0</td>\n",
       "      <td>LP001006</td>\n",
       "      <td>Y</td>\n",
       "      <td>1</td>\n",
       "      <td>2</td>\n",
       "      <td>0</td>\n",
       "      <td>train</td>\n",
       "      <td>0</td>\n",
       "    </tr>\n",
       "    <tr>\n",
       "      <th>4</th>\n",
       "      <td>6000</td>\n",
       "      <td>0.0</td>\n",
       "      <td>1</td>\n",
       "      <td>0</td>\n",
       "      <td>0</td>\n",
       "      <td>1</td>\n",
       "      <td>141.000000</td>\n",
       "      <td>360.0</td>\n",
       "      <td>LP001008</td>\n",
       "      <td>Y</td>\n",
       "      <td>0</td>\n",
       "      <td>2</td>\n",
       "      <td>0</td>\n",
       "      <td>train</td>\n",
       "      <td>0</td>\n",
       "    </tr>\n",
       "  </tbody>\n",
       "</table>\n",
       "</div>"
      ],
      "text/plain": [
       "   ApplicantIncome  CoapplicantIncome  Credit_History  Dependents  Education  \\\n",
       "0             5849                0.0               1           0          0   \n",
       "1             4583             1508.0               1           1          0   \n",
       "2             3000                0.0               1           0          0   \n",
       "3             2583             2358.0               1           0          1   \n",
       "4             6000                0.0               1           0          0   \n",
       "\n",
       "   Gender  LoanAmount Loan_Amount_Term   Loan_ID Loan_Status  Married  \\\n",
       "0       1  126.601036            360.0  LP001002           Y        0   \n",
       "1       1  128.000000            360.0  LP001003           N        1   \n",
       "2       1   66.000000            360.0  LP001005           Y        1   \n",
       "3       1  120.000000            360.0  LP001006           Y        1   \n",
       "4       1  141.000000            360.0  LP001008           Y        0   \n",
       "\n",
       "   Property_Area  Self_Employed source  Loan_Amount_Term_Combined  \n",
       "0              2              0  train                          0  \n",
       "1              0              0  train                          0  \n",
       "2              2              1  train                          0  \n",
       "3              2              0  train                          0  \n",
       "4              2              0  train                          0  "
      ]
     },
     "execution_count": 89,
     "metadata": {},
     "output_type": "execute_result"
    }
   ],
   "source": [
    "combine_clean.head()"
   ]
  },
  {
   "cell_type": "code",
   "execution_count": 90,
   "metadata": {
    "collapsed": true
   },
   "outputs": [],
   "source": [
    "combine_dummies=pd.get_dummies(combine_clean,columns=var_mod)"
   ]
  },
  {
   "cell_type": "code",
   "execution_count": 91,
   "metadata": {
    "collapsed": false
   },
   "outputs": [
    {
     "data": {
      "text/plain": [
       "ApplicantIncome                  int64\n",
       "CoapplicantIncome              float64\n",
       "LoanAmount                     float64\n",
       "Loan_Amount_Term                object\n",
       "Loan_ID                         object\n",
       "Loan_Status                     object\n",
       "source                          object\n",
       "Credit_History_0                 uint8\n",
       "Credit_History_1                 uint8\n",
       "Dependents_0                     uint8\n",
       "Dependents_1                     uint8\n",
       "Dependents_2                     uint8\n",
       "Dependents_3                     uint8\n",
       "Education_0                      uint8\n",
       "Education_1                      uint8\n",
       "Gender_0                         uint8\n",
       "Gender_1                         uint8\n",
       "Married_0                        uint8\n",
       "Married_1                        uint8\n",
       "Property_Area_0                  uint8\n",
       "Property_Area_1                  uint8\n",
       "Property_Area_2                  uint8\n",
       "Self_Employed_0                  uint8\n",
       "Self_Employed_1                  uint8\n",
       "Loan_Amount_Term_Combined_0      uint8\n",
       "Loan_Amount_Term_Combined_1      uint8\n",
       "dtype: object"
      ]
     },
     "execution_count": 91,
     "metadata": {},
     "output_type": "execute_result"
    }
   ],
   "source": [
    "combine_dummies.dtypes"
   ]
  },
  {
   "cell_type": "code",
   "execution_count": 92,
   "metadata": {
    "collapsed": true
   },
   "outputs": [],
   "source": [
    "combine_dummies.drop(['Loan_Amount_Term'],axis=1,inplace=True)"
   ]
  },
  {
   "cell_type": "code",
   "execution_count": 115,
   "metadata": {
    "collapsed": true
   },
   "outputs": [],
   "source": [
    "train_mod=combine_dummies.loc[combine_dummies.source=='train']"
   ]
  },
  {
   "cell_type": "code",
   "execution_count": 116,
   "metadata": {
    "collapsed": true
   },
   "outputs": [],
   "source": [
    "test_mod=combine_dummies.loc[combine_dummies.source=='test']"
   ]
  },
  {
   "cell_type": "code",
   "execution_count": 117,
   "metadata": {
    "collapsed": false
   },
   "outputs": [
    {
     "name": "stderr",
     "output_type": "stream",
     "text": [
      "C:\\Users\\zfang\\AppData\\Local\\Continuum\\Anaconda3\\lib\\site-packages\\ipykernel\\__main__.py:1: SettingWithCopyWarning: \n",
      "A value is trying to be set on a copy of a slice from a DataFrame\n",
      "\n",
      "See the caveats in the documentation: http://pandas.pydata.org/pandas-docs/stable/indexing.html#indexing-view-versus-copy\n",
      "  if __name__ == '__main__':\n"
     ]
    }
   ],
   "source": [
    "train_mod.drop('source',axis=1,inplace=True)"
   ]
  },
  {
   "cell_type": "code",
   "execution_count": 118,
   "metadata": {
    "collapsed": false
   },
   "outputs": [
    {
     "name": "stderr",
     "output_type": "stream",
     "text": [
      "C:\\Users\\zfang\\AppData\\Local\\Continuum\\Anaconda3\\lib\\site-packages\\ipykernel\\__main__.py:1: SettingWithCopyWarning: \n",
      "A value is trying to be set on a copy of a slice from a DataFrame\n",
      "\n",
      "See the caveats in the documentation: http://pandas.pydata.org/pandas-docs/stable/indexing.html#indexing-view-versus-copy\n",
      "  if __name__ == '__main__':\n"
     ]
    }
   ],
   "source": [
    "test_mod.drop(['source','Loan_Status'],axis=1,inplace=True)"
   ]
  },
  {
   "cell_type": "code",
   "execution_count": 119,
   "metadata": {
    "collapsed": true
   },
   "outputs": [],
   "source": [
    "test_mod.to_csv('test_mod.csv',index=False)\n",
    "train_mod.to_csv('train_mod.csv',index=False)"
   ]
  },
  {
   "cell_type": "code",
   "execution_count": 120,
   "metadata": {
    "collapsed": false
   },
   "outputs": [
    {
     "data": {
      "text/html": [
       "<div>\n",
       "<table border=\"1\" class=\"dataframe\">\n",
       "  <thead>\n",
       "    <tr style=\"text-align: right;\">\n",
       "      <th></th>\n",
       "      <th>ApplicantIncome</th>\n",
       "      <th>CoapplicantIncome</th>\n",
       "      <th>LoanAmount</th>\n",
       "      <th>Credit_History_0</th>\n",
       "      <th>Credit_History_1</th>\n",
       "      <th>Dependents_0</th>\n",
       "      <th>Dependents_1</th>\n",
       "      <th>Dependents_2</th>\n",
       "      <th>Dependents_3</th>\n",
       "      <th>Education_0</th>\n",
       "      <th>...</th>\n",
       "      <th>Gender_1</th>\n",
       "      <th>Married_0</th>\n",
       "      <th>Married_1</th>\n",
       "      <th>Property_Area_0</th>\n",
       "      <th>Property_Area_1</th>\n",
       "      <th>Property_Area_2</th>\n",
       "      <th>Self_Employed_0</th>\n",
       "      <th>Self_Employed_1</th>\n",
       "      <th>Loan_Amount_Term_Combined_0</th>\n",
       "      <th>Loan_Amount_Term_Combined_1</th>\n",
       "    </tr>\n",
       "  </thead>\n",
       "  <tbody>\n",
       "    <tr>\n",
       "      <th>ApplicantIncome</th>\n",
       "      <td>1.000000</td>\n",
       "      <td>-0.114247</td>\n",
       "      <td>0.547547</td>\n",
       "      <td>-0.020201</td>\n",
       "      <td>0.020201</td>\n",
       "      <td>-0.093441</td>\n",
       "      <td>0.027478</td>\n",
       "      <td>-0.021144</td>\n",
       "      <td>0.150853</td>\n",
       "      <td>0.138909</td>\n",
       "      <td>...</td>\n",
       "      <td>0.060444</td>\n",
       "      <td>-0.052126</td>\n",
       "      <td>0.052126</td>\n",
       "      <td>-0.000099</td>\n",
       "      <td>-0.009034</td>\n",
       "      <td>0.009171</td>\n",
       "      <td>-0.113106</td>\n",
       "      <td>0.113106</td>\n",
       "      <td>-0.039015</td>\n",
       "      <td>0.039015</td>\n",
       "    </tr>\n",
       "    <tr>\n",
       "      <th>CoapplicantIncome</th>\n",
       "      <td>-0.114247</td>\n",
       "      <td>1.000000</td>\n",
       "      <td>0.178786</td>\n",
       "      <td>0.011531</td>\n",
       "      <td>-0.011531</td>\n",
       "      <td>-0.003330</td>\n",
       "      <td>-0.007011</td>\n",
       "      <td>0.018375</td>\n",
       "      <td>-0.008810</td>\n",
       "      <td>0.060380</td>\n",
       "      <td>...</td>\n",
       "      <td>0.082428</td>\n",
       "      <td>-0.061606</td>\n",
       "      <td>0.061606</td>\n",
       "      <td>0.035925</td>\n",
       "      <td>-0.026793</td>\n",
       "      <td>-0.007484</td>\n",
       "      <td>0.018861</td>\n",
       "      <td>-0.018861</td>\n",
       "      <td>-0.037220</td>\n",
       "      <td>0.037220</td>\n",
       "    </tr>\n",
       "    <tr>\n",
       "      <th>LoanAmount</th>\n",
       "      <td>0.547547</td>\n",
       "      <td>0.178786</td>\n",
       "      <td>1.000000</td>\n",
       "      <td>0.003454</td>\n",
       "      <td>-0.003454</td>\n",
       "      <td>-0.137175</td>\n",
       "      <td>0.039785</td>\n",
       "      <td>0.053040</td>\n",
       "      <td>0.115084</td>\n",
       "      <td>0.162390</td>\n",
       "      <td>...</td>\n",
       "      <td>0.098228</td>\n",
       "      <td>-0.160235</td>\n",
       "      <td>0.160235</td>\n",
       "      <td>0.036330</td>\n",
       "      <td>-0.008166</td>\n",
       "      <td>-0.026585</td>\n",
       "      <td>-0.108287</td>\n",
       "      <td>0.108287</td>\n",
       "      <td>0.040088</td>\n",
       "      <td>-0.040088</td>\n",
       "    </tr>\n",
       "    <tr>\n",
       "      <th>Credit_History_0</th>\n",
       "      <td>-0.020201</td>\n",
       "      <td>0.011531</td>\n",
       "      <td>0.003454</td>\n",
       "      <td>1.000000</td>\n",
       "      <td>-1.000000</td>\n",
       "      <td>-0.017282</td>\n",
       "      <td>-0.031904</td>\n",
       "      <td>0.006640</td>\n",
       "      <td>0.061567</td>\n",
       "      <td>-0.062416</td>\n",
       "      <td>...</td>\n",
       "      <td>-0.018627</td>\n",
       "      <td>0.021738</td>\n",
       "      <td>-0.021738</td>\n",
       "      <td>0.026518</td>\n",
       "      <td>-0.009830</td>\n",
       "      <td>-0.015517</td>\n",
       "      <td>0.034485</td>\n",
       "      <td>-0.034485</td>\n",
       "      <td>-0.007120</td>\n",
       "      <td>0.007120</td>\n",
       "    </tr>\n",
       "    <tr>\n",
       "      <th>Credit_History_1</th>\n",
       "      <td>0.020201</td>\n",
       "      <td>-0.011531</td>\n",
       "      <td>-0.003454</td>\n",
       "      <td>-1.000000</td>\n",
       "      <td>1.000000</td>\n",
       "      <td>0.017282</td>\n",
       "      <td>0.031904</td>\n",
       "      <td>-0.006640</td>\n",
       "      <td>-0.061567</td>\n",
       "      <td>0.062416</td>\n",
       "      <td>...</td>\n",
       "      <td>0.018627</td>\n",
       "      <td>-0.021738</td>\n",
       "      <td>0.021738</td>\n",
       "      <td>-0.026518</td>\n",
       "      <td>0.009830</td>\n",
       "      <td>0.015517</td>\n",
       "      <td>-0.034485</td>\n",
       "      <td>0.034485</td>\n",
       "      <td>0.007120</td>\n",
       "      <td>-0.007120</td>\n",
       "    </tr>\n",
       "    <tr>\n",
       "      <th>Dependents_0</th>\n",
       "      <td>-0.093441</td>\n",
       "      <td>-0.003330</td>\n",
       "      <td>-0.137175</td>\n",
       "      <td>-0.017282</td>\n",
       "      <td>0.017282</td>\n",
       "      <td>1.000000</td>\n",
       "      <td>-0.519882</td>\n",
       "      <td>-0.519882</td>\n",
       "      <td>-0.376567</td>\n",
       "      <td>0.057978</td>\n",
       "      <td>...</td>\n",
       "      <td>-0.118262</td>\n",
       "      <td>0.360296</td>\n",
       "      <td>-0.360296</td>\n",
       "      <td>0.029423</td>\n",
       "      <td>0.000937</td>\n",
       "      <td>-0.029116</td>\n",
       "      <td>0.045207</td>\n",
       "      <td>-0.045207</td>\n",
       "      <td>0.085347</td>\n",
       "      <td>-0.085347</td>\n",
       "    </tr>\n",
       "    <tr>\n",
       "      <th>Dependents_1</th>\n",
       "      <td>0.027478</td>\n",
       "      <td>-0.007011</td>\n",
       "      <td>0.039785</td>\n",
       "      <td>-0.031904</td>\n",
       "      <td>0.031904</td>\n",
       "      <td>-0.519882</td>\n",
       "      <td>1.000000</td>\n",
       "      <td>-0.194884</td>\n",
       "      <td>-0.141161</td>\n",
       "      <td>0.023597</td>\n",
       "      <td>...</td>\n",
       "      <td>-0.016439</td>\n",
       "      <td>-0.118849</td>\n",
       "      <td>0.118849</td>\n",
       "      <td>-0.050177</td>\n",
       "      <td>0.017742</td>\n",
       "      <td>0.030225</td>\n",
       "      <td>-0.047252</td>\n",
       "      <td>0.047252</td>\n",
       "      <td>-0.037940</td>\n",
       "      <td>0.037940</td>\n",
       "    </tr>\n",
       "    <tr>\n",
       "      <th>Dependents_2</th>\n",
       "      <td>-0.021144</td>\n",
       "      <td>0.018375</td>\n",
       "      <td>0.053040</td>\n",
       "      <td>0.006640</td>\n",
       "      <td>-0.006640</td>\n",
       "      <td>-0.519882</td>\n",
       "      <td>-0.194884</td>\n",
       "      <td>1.000000</td>\n",
       "      <td>-0.141161</td>\n",
       "      <td>-0.042769</td>\n",
       "      <td>...</td>\n",
       "      <td>0.118421</td>\n",
       "      <td>-0.245805</td>\n",
       "      <td>0.245805</td>\n",
       "      <td>0.022380</td>\n",
       "      <td>-0.028364</td>\n",
       "      <td>0.007065</td>\n",
       "      <td>-0.013448</td>\n",
       "      <td>0.013448</td>\n",
       "      <td>-0.012111</td>\n",
       "      <td>0.012111</td>\n",
       "    </tr>\n",
       "    <tr>\n",
       "      <th>Dependents_3</th>\n",
       "      <td>0.150853</td>\n",
       "      <td>-0.008810</td>\n",
       "      <td>0.115084</td>\n",
       "      <td>0.061567</td>\n",
       "      <td>-0.061567</td>\n",
       "      <td>-0.376567</td>\n",
       "      <td>-0.141161</td>\n",
       "      <td>-0.141161</td>\n",
       "      <td>1.000000</td>\n",
       "      <td>-0.074190</td>\n",
       "      <td>...</td>\n",
       "      <td>0.071256</td>\n",
       "      <td>-0.148371</td>\n",
       "      <td>0.148371</td>\n",
       "      <td>-0.014639</td>\n",
       "      <td>0.011934</td>\n",
       "      <td>0.002029</td>\n",
       "      <td>0.000417</td>\n",
       "      <td>-0.000417</td>\n",
       "      <td>-0.081413</td>\n",
       "      <td>0.081413</td>\n",
       "    </tr>\n",
       "    <tr>\n",
       "      <th>Education_0</th>\n",
       "      <td>0.138909</td>\n",
       "      <td>0.060380</td>\n",
       "      <td>0.162390</td>\n",
       "      <td>-0.062416</td>\n",
       "      <td>0.062416</td>\n",
       "      <td>0.057978</td>\n",
       "      <td>0.023597</td>\n",
       "      <td>-0.042769</td>\n",
       "      <td>-0.074190</td>\n",
       "      <td>1.000000</td>\n",
       "      <td>...</td>\n",
       "      <td>-0.040649</td>\n",
       "      <td>0.026211</td>\n",
       "      <td>-0.026211</td>\n",
       "      <td>-0.051345</td>\n",
       "      <td>0.013089</td>\n",
       "      <td>0.036017</td>\n",
       "      <td>-0.010848</td>\n",
       "      <td>0.010848</td>\n",
       "      <td>0.035705</td>\n",
       "      <td>-0.035705</td>\n",
       "    </tr>\n",
       "    <tr>\n",
       "      <th>Education_1</th>\n",
       "      <td>-0.138909</td>\n",
       "      <td>-0.060380</td>\n",
       "      <td>-0.162390</td>\n",
       "      <td>0.062416</td>\n",
       "      <td>-0.062416</td>\n",
       "      <td>-0.057978</td>\n",
       "      <td>-0.023597</td>\n",
       "      <td>0.042769</td>\n",
       "      <td>0.074190</td>\n",
       "      <td>-1.000000</td>\n",
       "      <td>...</td>\n",
       "      <td>0.040649</td>\n",
       "      <td>-0.026211</td>\n",
       "      <td>0.026211</td>\n",
       "      <td>0.051345</td>\n",
       "      <td>-0.013089</td>\n",
       "      <td>-0.036017</td>\n",
       "      <td>0.010848</td>\n",
       "      <td>-0.010848</td>\n",
       "      <td>-0.035705</td>\n",
       "      <td>0.035705</td>\n",
       "    </tr>\n",
       "    <tr>\n",
       "      <th>Gender_0</th>\n",
       "      <td>-0.060444</td>\n",
       "      <td>-0.082428</td>\n",
       "      <td>-0.098228</td>\n",
       "      <td>0.018627</td>\n",
       "      <td>-0.018627</td>\n",
       "      <td>0.118262</td>\n",
       "      <td>0.016439</td>\n",
       "      <td>-0.118421</td>\n",
       "      <td>-0.071256</td>\n",
       "      <td>0.040649</td>\n",
       "      <td>...</td>\n",
       "      <td>-1.000000</td>\n",
       "      <td>0.327012</td>\n",
       "      <td>-0.327012</td>\n",
       "      <td>-0.067824</td>\n",
       "      <td>0.094498</td>\n",
       "      <td>-0.029989</td>\n",
       "      <td>0.024719</td>\n",
       "      <td>-0.024719</td>\n",
       "      <td>0.058505</td>\n",
       "      <td>-0.058505</td>\n",
       "    </tr>\n",
       "    <tr>\n",
       "      <th>Gender_1</th>\n",
       "      <td>0.060444</td>\n",
       "      <td>0.082428</td>\n",
       "      <td>0.098228</td>\n",
       "      <td>-0.018627</td>\n",
       "      <td>0.018627</td>\n",
       "      <td>-0.118262</td>\n",
       "      <td>-0.016439</td>\n",
       "      <td>0.118421</td>\n",
       "      <td>0.071256</td>\n",
       "      <td>-0.040649</td>\n",
       "      <td>...</td>\n",
       "      <td>1.000000</td>\n",
       "      <td>-0.327012</td>\n",
       "      <td>0.327012</td>\n",
       "      <td>0.067824</td>\n",
       "      <td>-0.094498</td>\n",
       "      <td>0.029989</td>\n",
       "      <td>-0.024719</td>\n",
       "      <td>0.024719</td>\n",
       "      <td>-0.058505</td>\n",
       "      <td>0.058505</td>\n",
       "    </tr>\n",
       "    <tr>\n",
       "      <th>Married_0</th>\n",
       "      <td>-0.052126</td>\n",
       "      <td>-0.061606</td>\n",
       "      <td>-0.160235</td>\n",
       "      <td>0.021738</td>\n",
       "      <td>-0.021738</td>\n",
       "      <td>0.360296</td>\n",
       "      <td>-0.118849</td>\n",
       "      <td>-0.245805</td>\n",
       "      <td>-0.148371</td>\n",
       "      <td>0.026211</td>\n",
       "      <td>...</td>\n",
       "      <td>-0.327012</td>\n",
       "      <td>1.000000</td>\n",
       "      <td>-1.000000</td>\n",
       "      <td>0.001967</td>\n",
       "      <td>0.006909</td>\n",
       "      <td>-0.008825</td>\n",
       "      <td>0.013666</td>\n",
       "      <td>-0.013666</td>\n",
       "      <td>0.048725</td>\n",
       "      <td>-0.048725</td>\n",
       "    </tr>\n",
       "    <tr>\n",
       "      <th>Married_1</th>\n",
       "      <td>0.052126</td>\n",
       "      <td>0.061606</td>\n",
       "      <td>0.160235</td>\n",
       "      <td>-0.021738</td>\n",
       "      <td>0.021738</td>\n",
       "      <td>-0.360296</td>\n",
       "      <td>0.118849</td>\n",
       "      <td>0.245805</td>\n",
       "      <td>0.148371</td>\n",
       "      <td>-0.026211</td>\n",
       "      <td>...</td>\n",
       "      <td>0.327012</td>\n",
       "      <td>-1.000000</td>\n",
       "      <td>1.000000</td>\n",
       "      <td>-0.001967</td>\n",
       "      <td>-0.006909</td>\n",
       "      <td>0.008825</td>\n",
       "      <td>-0.013666</td>\n",
       "      <td>0.013666</td>\n",
       "      <td>-0.048725</td>\n",
       "      <td>0.048725</td>\n",
       "    </tr>\n",
       "    <tr>\n",
       "      <th>Property_Area_0</th>\n",
       "      <td>-0.000099</td>\n",
       "      <td>0.035925</td>\n",
       "      <td>0.036330</td>\n",
       "      <td>0.026518</td>\n",
       "      <td>-0.026518</td>\n",
       "      <td>0.029423</td>\n",
       "      <td>-0.050177</td>\n",
       "      <td>0.022380</td>\n",
       "      <td>-0.014639</td>\n",
       "      <td>-0.051345</td>\n",
       "      <td>...</td>\n",
       "      <td>0.067824</td>\n",
       "      <td>0.001967</td>\n",
       "      <td>-0.001967</td>\n",
       "      <td>1.000000</td>\n",
       "      <td>-0.481409</td>\n",
       "      <td>-0.473939</td>\n",
       "      <td>-0.060360</td>\n",
       "      <td>0.060360</td>\n",
       "      <td>0.025793</td>\n",
       "      <td>-0.025793</td>\n",
       "    </tr>\n",
       "    <tr>\n",
       "      <th>Property_Area_1</th>\n",
       "      <td>-0.009034</td>\n",
       "      <td>-0.026793</td>\n",
       "      <td>-0.008166</td>\n",
       "      <td>-0.009830</td>\n",
       "      <td>0.009830</td>\n",
       "      <td>0.000937</td>\n",
       "      <td>0.017742</td>\n",
       "      <td>-0.028364</td>\n",
       "      <td>0.011934</td>\n",
       "      <td>0.013089</td>\n",
       "      <td>...</td>\n",
       "      <td>-0.094498</td>\n",
       "      <td>0.006909</td>\n",
       "      <td>-0.006909</td>\n",
       "      <td>-0.481409</td>\n",
       "      <td>1.000000</td>\n",
       "      <td>-0.543647</td>\n",
       "      <td>0.015231</td>\n",
       "      <td>-0.015231</td>\n",
       "      <td>0.030274</td>\n",
       "      <td>-0.030274</td>\n",
       "    </tr>\n",
       "    <tr>\n",
       "      <th>Property_Area_2</th>\n",
       "      <td>0.009171</td>\n",
       "      <td>-0.007484</td>\n",
       "      <td>-0.026585</td>\n",
       "      <td>-0.015517</td>\n",
       "      <td>0.015517</td>\n",
       "      <td>-0.029116</td>\n",
       "      <td>0.030225</td>\n",
       "      <td>0.007065</td>\n",
       "      <td>0.002029</td>\n",
       "      <td>0.036017</td>\n",
       "      <td>...</td>\n",
       "      <td>0.029989</td>\n",
       "      <td>-0.008825</td>\n",
       "      <td>0.008825</td>\n",
       "      <td>-0.473939</td>\n",
       "      <td>-0.543647</td>\n",
       "      <td>1.000000</td>\n",
       "      <td>0.042498</td>\n",
       "      <td>-0.042498</td>\n",
       "      <td>-0.055114</td>\n",
       "      <td>0.055114</td>\n",
       "    </tr>\n",
       "    <tr>\n",
       "      <th>Self_Employed_0</th>\n",
       "      <td>-0.113106</td>\n",
       "      <td>0.018861</td>\n",
       "      <td>-0.108287</td>\n",
       "      <td>0.034485</td>\n",
       "      <td>-0.034485</td>\n",
       "      <td>0.045207</td>\n",
       "      <td>-0.047252</td>\n",
       "      <td>-0.013448</td>\n",
       "      <td>0.000417</td>\n",
       "      <td>-0.010848</td>\n",
       "      <td>...</td>\n",
       "      <td>-0.024719</td>\n",
       "      <td>0.013666</td>\n",
       "      <td>-0.013666</td>\n",
       "      <td>-0.060360</td>\n",
       "      <td>0.015231</td>\n",
       "      <td>0.042498</td>\n",
       "      <td>1.000000</td>\n",
       "      <td>-1.000000</td>\n",
       "      <td>0.040639</td>\n",
       "      <td>-0.040639</td>\n",
       "    </tr>\n",
       "    <tr>\n",
       "      <th>Self_Employed_1</th>\n",
       "      <td>0.113106</td>\n",
       "      <td>-0.018861</td>\n",
       "      <td>0.108287</td>\n",
       "      <td>-0.034485</td>\n",
       "      <td>0.034485</td>\n",
       "      <td>-0.045207</td>\n",
       "      <td>0.047252</td>\n",
       "      <td>0.013448</td>\n",
       "      <td>-0.000417</td>\n",
       "      <td>0.010848</td>\n",
       "      <td>...</td>\n",
       "      <td>0.024719</td>\n",
       "      <td>-0.013666</td>\n",
       "      <td>0.013666</td>\n",
       "      <td>0.060360</td>\n",
       "      <td>-0.015231</td>\n",
       "      <td>-0.042498</td>\n",
       "      <td>-1.000000</td>\n",
       "      <td>1.000000</td>\n",
       "      <td>-0.040639</td>\n",
       "      <td>0.040639</td>\n",
       "    </tr>\n",
       "    <tr>\n",
       "      <th>Loan_Amount_Term_Combined_0</th>\n",
       "      <td>-0.039015</td>\n",
       "      <td>-0.037220</td>\n",
       "      <td>0.040088</td>\n",
       "      <td>-0.007120</td>\n",
       "      <td>0.007120</td>\n",
       "      <td>0.085347</td>\n",
       "      <td>-0.037940</td>\n",
       "      <td>-0.012111</td>\n",
       "      <td>-0.081413</td>\n",
       "      <td>0.035705</td>\n",
       "      <td>...</td>\n",
       "      <td>-0.058505</td>\n",
       "      <td>0.048725</td>\n",
       "      <td>-0.048725</td>\n",
       "      <td>0.025793</td>\n",
       "      <td>0.030274</td>\n",
       "      <td>-0.055114</td>\n",
       "      <td>0.040639</td>\n",
       "      <td>-0.040639</td>\n",
       "      <td>1.000000</td>\n",
       "      <td>-1.000000</td>\n",
       "    </tr>\n",
       "    <tr>\n",
       "      <th>Loan_Amount_Term_Combined_1</th>\n",
       "      <td>0.039015</td>\n",
       "      <td>0.037220</td>\n",
       "      <td>-0.040088</td>\n",
       "      <td>0.007120</td>\n",
       "      <td>-0.007120</td>\n",
       "      <td>-0.085347</td>\n",
       "      <td>0.037940</td>\n",
       "      <td>0.012111</td>\n",
       "      <td>0.081413</td>\n",
       "      <td>-0.035705</td>\n",
       "      <td>...</td>\n",
       "      <td>0.058505</td>\n",
       "      <td>-0.048725</td>\n",
       "      <td>0.048725</td>\n",
       "      <td>-0.025793</td>\n",
       "      <td>-0.030274</td>\n",
       "      <td>0.055114</td>\n",
       "      <td>-0.040639</td>\n",
       "      <td>0.040639</td>\n",
       "      <td>-1.000000</td>\n",
       "      <td>1.000000</td>\n",
       "    </tr>\n",
       "  </tbody>\n",
       "</table>\n",
       "<p>22 rows × 22 columns</p>\n",
       "</div>"
      ],
      "text/plain": [
       "                             ApplicantIncome  CoapplicantIncome  LoanAmount  \\\n",
       "ApplicantIncome                     1.000000          -0.114247    0.547547   \n",
       "CoapplicantIncome                  -0.114247           1.000000    0.178786   \n",
       "LoanAmount                          0.547547           0.178786    1.000000   \n",
       "Credit_History_0                   -0.020201           0.011531    0.003454   \n",
       "Credit_History_1                    0.020201          -0.011531   -0.003454   \n",
       "Dependents_0                       -0.093441          -0.003330   -0.137175   \n",
       "Dependents_1                        0.027478          -0.007011    0.039785   \n",
       "Dependents_2                       -0.021144           0.018375    0.053040   \n",
       "Dependents_3                        0.150853          -0.008810    0.115084   \n",
       "Education_0                         0.138909           0.060380    0.162390   \n",
       "Education_1                        -0.138909          -0.060380   -0.162390   \n",
       "Gender_0                           -0.060444          -0.082428   -0.098228   \n",
       "Gender_1                            0.060444           0.082428    0.098228   \n",
       "Married_0                          -0.052126          -0.061606   -0.160235   \n",
       "Married_1                           0.052126           0.061606    0.160235   \n",
       "Property_Area_0                    -0.000099           0.035925    0.036330   \n",
       "Property_Area_1                    -0.009034          -0.026793   -0.008166   \n",
       "Property_Area_2                     0.009171          -0.007484   -0.026585   \n",
       "Self_Employed_0                    -0.113106           0.018861   -0.108287   \n",
       "Self_Employed_1                     0.113106          -0.018861    0.108287   \n",
       "Loan_Amount_Term_Combined_0        -0.039015          -0.037220    0.040088   \n",
       "Loan_Amount_Term_Combined_1         0.039015           0.037220   -0.040088   \n",
       "\n",
       "                             Credit_History_0  Credit_History_1  Dependents_0  \\\n",
       "ApplicantIncome                     -0.020201          0.020201     -0.093441   \n",
       "CoapplicantIncome                    0.011531         -0.011531     -0.003330   \n",
       "LoanAmount                           0.003454         -0.003454     -0.137175   \n",
       "Credit_History_0                     1.000000         -1.000000     -0.017282   \n",
       "Credit_History_1                    -1.000000          1.000000      0.017282   \n",
       "Dependents_0                        -0.017282          0.017282      1.000000   \n",
       "Dependents_1                        -0.031904          0.031904     -0.519882   \n",
       "Dependents_2                         0.006640         -0.006640     -0.519882   \n",
       "Dependents_3                         0.061567         -0.061567     -0.376567   \n",
       "Education_0                         -0.062416          0.062416      0.057978   \n",
       "Education_1                          0.062416         -0.062416     -0.057978   \n",
       "Gender_0                             0.018627         -0.018627      0.118262   \n",
       "Gender_1                            -0.018627          0.018627     -0.118262   \n",
       "Married_0                            0.021738         -0.021738      0.360296   \n",
       "Married_1                           -0.021738          0.021738     -0.360296   \n",
       "Property_Area_0                      0.026518         -0.026518      0.029423   \n",
       "Property_Area_1                     -0.009830          0.009830      0.000937   \n",
       "Property_Area_2                     -0.015517          0.015517     -0.029116   \n",
       "Self_Employed_0                      0.034485         -0.034485      0.045207   \n",
       "Self_Employed_1                     -0.034485          0.034485     -0.045207   \n",
       "Loan_Amount_Term_Combined_0         -0.007120          0.007120      0.085347   \n",
       "Loan_Amount_Term_Combined_1          0.007120         -0.007120     -0.085347   \n",
       "\n",
       "                             Dependents_1  Dependents_2  Dependents_3  \\\n",
       "ApplicantIncome                  0.027478     -0.021144      0.150853   \n",
       "CoapplicantIncome               -0.007011      0.018375     -0.008810   \n",
       "LoanAmount                       0.039785      0.053040      0.115084   \n",
       "Credit_History_0                -0.031904      0.006640      0.061567   \n",
       "Credit_History_1                 0.031904     -0.006640     -0.061567   \n",
       "Dependents_0                    -0.519882     -0.519882     -0.376567   \n",
       "Dependents_1                     1.000000     -0.194884     -0.141161   \n",
       "Dependents_2                    -0.194884      1.000000     -0.141161   \n",
       "Dependents_3                    -0.141161     -0.141161      1.000000   \n",
       "Education_0                      0.023597     -0.042769     -0.074190   \n",
       "Education_1                     -0.023597      0.042769      0.074190   \n",
       "Gender_0                         0.016439     -0.118421     -0.071256   \n",
       "Gender_1                        -0.016439      0.118421      0.071256   \n",
       "Married_0                       -0.118849     -0.245805     -0.148371   \n",
       "Married_1                        0.118849      0.245805      0.148371   \n",
       "Property_Area_0                 -0.050177      0.022380     -0.014639   \n",
       "Property_Area_1                  0.017742     -0.028364      0.011934   \n",
       "Property_Area_2                  0.030225      0.007065      0.002029   \n",
       "Self_Employed_0                 -0.047252     -0.013448      0.000417   \n",
       "Self_Employed_1                  0.047252      0.013448     -0.000417   \n",
       "Loan_Amount_Term_Combined_0     -0.037940     -0.012111     -0.081413   \n",
       "Loan_Amount_Term_Combined_1      0.037940      0.012111      0.081413   \n",
       "\n",
       "                             Education_0             ...               \\\n",
       "ApplicantIncome                 0.138909             ...                \n",
       "CoapplicantIncome               0.060380             ...                \n",
       "LoanAmount                      0.162390             ...                \n",
       "Credit_History_0               -0.062416             ...                \n",
       "Credit_History_1                0.062416             ...                \n",
       "Dependents_0                    0.057978             ...                \n",
       "Dependents_1                    0.023597             ...                \n",
       "Dependents_2                   -0.042769             ...                \n",
       "Dependents_3                   -0.074190             ...                \n",
       "Education_0                     1.000000             ...                \n",
       "Education_1                    -1.000000             ...                \n",
       "Gender_0                        0.040649             ...                \n",
       "Gender_1                       -0.040649             ...                \n",
       "Married_0                       0.026211             ...                \n",
       "Married_1                      -0.026211             ...                \n",
       "Property_Area_0                -0.051345             ...                \n",
       "Property_Area_1                 0.013089             ...                \n",
       "Property_Area_2                 0.036017             ...                \n",
       "Self_Employed_0                -0.010848             ...                \n",
       "Self_Employed_1                 0.010848             ...                \n",
       "Loan_Amount_Term_Combined_0     0.035705             ...                \n",
       "Loan_Amount_Term_Combined_1    -0.035705             ...                \n",
       "\n",
       "                             Gender_1  Married_0  Married_1  Property_Area_0  \\\n",
       "ApplicantIncome              0.060444  -0.052126   0.052126        -0.000099   \n",
       "CoapplicantIncome            0.082428  -0.061606   0.061606         0.035925   \n",
       "LoanAmount                   0.098228  -0.160235   0.160235         0.036330   \n",
       "Credit_History_0            -0.018627   0.021738  -0.021738         0.026518   \n",
       "Credit_History_1             0.018627  -0.021738   0.021738        -0.026518   \n",
       "Dependents_0                -0.118262   0.360296  -0.360296         0.029423   \n",
       "Dependents_1                -0.016439  -0.118849   0.118849        -0.050177   \n",
       "Dependents_2                 0.118421  -0.245805   0.245805         0.022380   \n",
       "Dependents_3                 0.071256  -0.148371   0.148371        -0.014639   \n",
       "Education_0                 -0.040649   0.026211  -0.026211        -0.051345   \n",
       "Education_1                  0.040649  -0.026211   0.026211         0.051345   \n",
       "Gender_0                    -1.000000   0.327012  -0.327012        -0.067824   \n",
       "Gender_1                     1.000000  -0.327012   0.327012         0.067824   \n",
       "Married_0                   -0.327012   1.000000  -1.000000         0.001967   \n",
       "Married_1                    0.327012  -1.000000   1.000000        -0.001967   \n",
       "Property_Area_0              0.067824   0.001967  -0.001967         1.000000   \n",
       "Property_Area_1             -0.094498   0.006909  -0.006909        -0.481409   \n",
       "Property_Area_2              0.029989  -0.008825   0.008825        -0.473939   \n",
       "Self_Employed_0             -0.024719   0.013666  -0.013666        -0.060360   \n",
       "Self_Employed_1              0.024719  -0.013666   0.013666         0.060360   \n",
       "Loan_Amount_Term_Combined_0 -0.058505   0.048725  -0.048725         0.025793   \n",
       "Loan_Amount_Term_Combined_1  0.058505  -0.048725   0.048725        -0.025793   \n",
       "\n",
       "                             Property_Area_1  Property_Area_2  \\\n",
       "ApplicantIncome                    -0.009034         0.009171   \n",
       "CoapplicantIncome                  -0.026793        -0.007484   \n",
       "LoanAmount                         -0.008166        -0.026585   \n",
       "Credit_History_0                   -0.009830        -0.015517   \n",
       "Credit_History_1                    0.009830         0.015517   \n",
       "Dependents_0                        0.000937        -0.029116   \n",
       "Dependents_1                        0.017742         0.030225   \n",
       "Dependents_2                       -0.028364         0.007065   \n",
       "Dependents_3                        0.011934         0.002029   \n",
       "Education_0                         0.013089         0.036017   \n",
       "Education_1                        -0.013089        -0.036017   \n",
       "Gender_0                            0.094498        -0.029989   \n",
       "Gender_1                           -0.094498         0.029989   \n",
       "Married_0                           0.006909        -0.008825   \n",
       "Married_1                          -0.006909         0.008825   \n",
       "Property_Area_0                    -0.481409        -0.473939   \n",
       "Property_Area_1                     1.000000        -0.543647   \n",
       "Property_Area_2                    -0.543647         1.000000   \n",
       "Self_Employed_0                     0.015231         0.042498   \n",
       "Self_Employed_1                    -0.015231        -0.042498   \n",
       "Loan_Amount_Term_Combined_0         0.030274        -0.055114   \n",
       "Loan_Amount_Term_Combined_1        -0.030274         0.055114   \n",
       "\n",
       "                             Self_Employed_0  Self_Employed_1  \\\n",
       "ApplicantIncome                    -0.113106         0.113106   \n",
       "CoapplicantIncome                   0.018861        -0.018861   \n",
       "LoanAmount                         -0.108287         0.108287   \n",
       "Credit_History_0                    0.034485        -0.034485   \n",
       "Credit_History_1                   -0.034485         0.034485   \n",
       "Dependents_0                        0.045207        -0.045207   \n",
       "Dependents_1                       -0.047252         0.047252   \n",
       "Dependents_2                       -0.013448         0.013448   \n",
       "Dependents_3                        0.000417        -0.000417   \n",
       "Education_0                        -0.010848         0.010848   \n",
       "Education_1                         0.010848        -0.010848   \n",
       "Gender_0                            0.024719        -0.024719   \n",
       "Gender_1                           -0.024719         0.024719   \n",
       "Married_0                           0.013666        -0.013666   \n",
       "Married_1                          -0.013666         0.013666   \n",
       "Property_Area_0                    -0.060360         0.060360   \n",
       "Property_Area_1                     0.015231        -0.015231   \n",
       "Property_Area_2                     0.042498        -0.042498   \n",
       "Self_Employed_0                     1.000000        -1.000000   \n",
       "Self_Employed_1                    -1.000000         1.000000   \n",
       "Loan_Amount_Term_Combined_0         0.040639        -0.040639   \n",
       "Loan_Amount_Term_Combined_1        -0.040639         0.040639   \n",
       "\n",
       "                             Loan_Amount_Term_Combined_0  \\\n",
       "ApplicantIncome                                -0.039015   \n",
       "CoapplicantIncome                              -0.037220   \n",
       "LoanAmount                                      0.040088   \n",
       "Credit_History_0                               -0.007120   \n",
       "Credit_History_1                                0.007120   \n",
       "Dependents_0                                    0.085347   \n",
       "Dependents_1                                   -0.037940   \n",
       "Dependents_2                                   -0.012111   \n",
       "Dependents_3                                   -0.081413   \n",
       "Education_0                                     0.035705   \n",
       "Education_1                                    -0.035705   \n",
       "Gender_0                                        0.058505   \n",
       "Gender_1                                       -0.058505   \n",
       "Married_0                                       0.048725   \n",
       "Married_1                                      -0.048725   \n",
       "Property_Area_0                                 0.025793   \n",
       "Property_Area_1                                 0.030274   \n",
       "Property_Area_2                                -0.055114   \n",
       "Self_Employed_0                                 0.040639   \n",
       "Self_Employed_1                                -0.040639   \n",
       "Loan_Amount_Term_Combined_0                     1.000000   \n",
       "Loan_Amount_Term_Combined_1                    -1.000000   \n",
       "\n",
       "                             Loan_Amount_Term_Combined_1  \n",
       "ApplicantIncome                                 0.039015  \n",
       "CoapplicantIncome                               0.037220  \n",
       "LoanAmount                                     -0.040088  \n",
       "Credit_History_0                                0.007120  \n",
       "Credit_History_1                               -0.007120  \n",
       "Dependents_0                                   -0.085347  \n",
       "Dependents_1                                    0.037940  \n",
       "Dependents_2                                    0.012111  \n",
       "Dependents_3                                    0.081413  \n",
       "Education_0                                    -0.035705  \n",
       "Education_1                                     0.035705  \n",
       "Gender_0                                       -0.058505  \n",
       "Gender_1                                        0.058505  \n",
       "Married_0                                      -0.048725  \n",
       "Married_1                                       0.048725  \n",
       "Property_Area_0                                -0.025793  \n",
       "Property_Area_1                                -0.030274  \n",
       "Property_Area_2                                 0.055114  \n",
       "Self_Employed_0                                -0.040639  \n",
       "Self_Employed_1                                 0.040639  \n",
       "Loan_Amount_Term_Combined_0                    -1.000000  \n",
       "Loan_Amount_Term_Combined_1                     1.000000  \n",
       "\n",
       "[22 rows x 22 columns]"
      ]
     },
     "execution_count": 120,
     "metadata": {},
     "output_type": "execute_result"
    }
   ],
   "source": [
    "combine_dummies.corr()"
   ]
  },
  {
   "cell_type": "markdown",
   "metadata": {},
   "source": [
    "# Model selection\n",
    "\n",
    "## [Scoring Paramater]http://scikit-learn.org/stable/modules/model_evaluation.html\n",
    "\n",
    "### E.g: (metrics.accuracy_score) _for classification_\n",
    "### E.g: (metrics.mean_squared_error) _for Regression_\n",
    "### E.g: (metrics.adjusted_rand_score) _for Clustering_"
   ]
  },
  {
   "cell_type": "code",
   "execution_count": 227,
   "metadata": {
    "collapsed": false
   },
   "outputs": [],
   "source": [
    "#Define target and ID columns:\n",
    "target = 'Loan_Status'\n",
    "IDcol = ['Loan_ID']\n",
    "from sklearn import cross_validation, metrics\n",
    "def modelfit(alg, dtrain, dtest, predictors, target, IDcol, filename):\n",
    "    #Fit the algorithm on the data\n",
    "    alg.fit(dtrain[predictors], dtrain[target])\n",
    "    \n",
    "\n",
    "        \n",
    "    #Predict training set:\n",
    "    dtrain_predictions = alg.predict(dtrain[predictors])\n",
    "    \n",
    "\n",
    "    #Perform cross-validation:\n",
    "    cv_score = cross_validation.cross_val_score(alg, dtrain[predictors], dtrain[target], cv=20)\n",
    "    \n",
    "    print ('Cross_Validation_Score:%.4g' %cv_score.mean())\n",
    "    #Print model report:\n",
    "    print (\"\\nModel Report\")\n",
    "    \n",
    "    print (\"Training_Accuracy : %.6g\" % metrics.accuracy_score(dtrain_predictions,dtrain[target]))\n",
    "    \n",
    "    \n",
    "    \n",
    "    #Predict on testing data:\n",
    "    dtest_predictions= alg.predict(dtest[predictors])\n",
    "    \n",
    "    print (\"Testing_Accuracy : %.4g\" % metrics.accuracy_score(dtest_predictions,dtest[target]))\n",
    "\n",
    "    #Export submission file:\n",
    "    IDcol.append(target)\n",
    "    submission = pd.DataFrame({ x: dtest[x] for x in IDcol})\n",
    "    submission.to_csv(filename, index=False)"
   ]
  },
  {
   "cell_type": "markdown",
   "metadata": {},
   "source": [
    "#### Logistic Regression "
   ]
  },
  {
   "cell_type": "code",
   "execution_count": 228,
   "metadata": {
    "collapsed": false
   },
   "outputs": [
    {
     "name": "stdout",
     "output_type": "stream",
     "text": [
      "Cross_Validation_Score:0.8117\n",
      "\n",
      "Model Report\n",
      "Training_Accuracy : 0.812704\n",
      "Testing_Accuracy : 1\n"
     ]
    }
   ],
   "source": [
    "from sklearn.linear_model import LogisticRegression\n",
    "predictors= [x for x in train_mod.columns if x not in [target]+IDcol]\n",
    "Log=LogisticRegression()\n",
    "modelfit(Log,train_mod,test_mod,predictors,target,IDcol,'Log1.csv')\n"
   ]
  },
  {
   "cell_type": "markdown",
   "metadata": {},
   "source": [
    "#### Decision Tree "
   ]
  },
  {
   "cell_type": "code",
   "execution_count": 234,
   "metadata": {
    "collapsed": false
   },
   "outputs": [
    {
     "name": "stdout",
     "output_type": "stream",
     "text": [
      "Cross_Validation_Score:0.81\n",
      "\n",
      "Model Report\n",
      "Training_Accuracy : 0.809446\n",
      "Testing_Accuracy : 0.9946\n"
     ]
    }
   ],
   "source": [
    "from sklearn.tree import DecisionTreeClassifier,export_graphviz\n",
    "predictors= ['ApplicantIncome', 'CoapplicantIncome', 'LoanAmount', 'Credit_History_0', 'Credit_History_1', 'Dependents_3', 'Education_0',\n",
    "       'Education_1', 'Married_0', 'Married_1',\n",
    "       'Property_Area_0', 'Property_Area_1', 'Property_Area_2',\n",
    "       'Self_Employed_0', 'Self_Employed_1', 'Loan_Amount_Term_Combined_0',\n",
    "       'Loan_Amount_Term_Combined_1']\n",
    "Decision=DecisionTreeClassifier(max_depth=20,min_samples_leaf=75)\n",
    "modelfit(Decision,train_mod,test_mod,predictors,target,IDcol,'Decision1.csv')\n"
   ]
  },
  {
   "cell_type": "markdown",
   "metadata": {},
   "source": [
    "#### Random Forest"
   ]
  },
  {
   "cell_type": "code",
   "execution_count": 236,
   "metadata": {
    "collapsed": false
   },
   "outputs": [
    {
     "name": "stdout",
     "output_type": "stream",
     "text": [
      "Cross_Validation_Score:0.81\n",
      "\n",
      "Model Report\n",
      "Training_Accuracy : 0.809446\n",
      "Testing_Accuracy : 0.9946\n"
     ]
    }
   ],
   "source": [
    "from sklearn.ensemble import RandomForestClassifier\n",
    "predictors=[x for x in train_mod.columns if x not in [target]+IDcol]\n",
    "RandomForest=RandomForestClassifier(n_estimators=30,max_depth=7,min_samples_leaf=30,n_jobs=4)\n",
    "modelfit(RandomForest,train_mod,test_mod,predictors,target,IDcol,'random1.csv')\n"
   ]
  },
  {
   "cell_type": "code",
   "execution_count": 242,
   "metadata": {
    "collapsed": false
   },
   "outputs": [
    {
     "name": "stdout",
     "output_type": "stream",
     "text": [
      "Cross_Validation_Score:0.81\n",
      "\n",
      "Model Report\n",
      "Training_Accuracy : 0.809446\n",
      "Testing_Accuracy : 0.9946\n"
     ]
    }
   ],
   "source": [
    "from sklearn.ensemble import RandomForestClassifier\n",
    "predictors=[x for x in train_mod.columns if x not in [target]+IDcol]\n",
    "RandomForest=RandomForestClassifier(n_estimators=30,max_depth=7,min_samples_leaf=25,n_jobs=4)\n",
    "modelfit(RandomForest,train_mod,test_mod,predictors,target,IDcol,'random2.csv')"
   ]
  },
  {
   "cell_type": "markdown",
   "metadata": {},
   "source": [
    "####  GradiantBoosting"
   ]
  },
  {
   "cell_type": "code",
   "execution_count": 246,
   "metadata": {
    "collapsed": false
   },
   "outputs": [
    {
     "name": "stdout",
     "output_type": "stream",
     "text": [
      "Cross_Validation_Score:0.779\n",
      "\n",
      "Model Report\n",
      "Training_Accuracy : 0.882736\n",
      "Testing_Accuracy : 0.9292\n"
     ]
    }
   ],
   "source": [
    "from sklearn.ensemble import GradientBoostingClassifier\n",
    "predictors=[x for x in train_mod.columns if x not in [target]+IDcol]\n",
    "GBM=GradientBoostingClassifier(n_estimators=30,learning_rate=0.1,max_depth=7,subsample=0.2)\n",
    "modelfit(GBM,train_mod,test_mod,predictors,target,IDcol,'GBM1.csv')"
   ]
  },
  {
   "cell_type": "code",
   "execution_count": 124,
   "metadata": {
    "collapsed": false
   },
   "outputs": [],
   "source": [
    "from sklearn.linear_model import LogisticRegression\n",
    "from sklearn.cross_validation import KFold   #For K-fold cross validation\n",
    "from sklearn.ensemble import RandomForestClassifier\n",
    "from sklearn.tree import DecisionTreeClassifier, export_graphviz\n",
    "from sklearn import metrics\n",
    "\n",
    "#Generic function for making a classification model and accessing performance:\n",
    "def classification_model(model, data, predictors, outcome):\n",
    "  #Fit the model:\n",
    "  model.fit(data[predictors],data[outcome])\n",
    "  \n",
    "  #Make predictions on training set:\n",
    "  predictions = model.predict(data[predictors])\n",
    "  \n",
    "  #Print accuracy\n",
    "  accuracy = metrics.accuracy_score(predictions,data[outcome])\n",
    "  print (\"Accuracy : %s\" % \"{0:.3%}\".format(accuracy))\n",
    "\n",
    "  #Perform k-fold cross-validation with 5 folds\n",
    "  kf = KFold(data.shape[0], n_folds=5)\n",
    "  error = []\n",
    "  for train, test in kf:\n",
    "    # Filter training data\n",
    "    train_predictors = (data[predictors].iloc[train,:])\n",
    "    \n",
    "    # The target we're using to train the algorithm.\n",
    "    train_target = data[outcome].iloc[train]\n",
    "    \n",
    "    # Training the algorithm using the predictors and target.\n",
    "    model.fit(train_predictors, train_target)\n",
    "    \n",
    "    #Record error from each cross-validation run\n",
    "    error.append(model.score(data[predictors].iloc[test,:], data[outcome].iloc[test]))\n",
    " \n",
    "  print (\"Cross-Validation Score : %s\" % \"{0:.3%}\".format(np.mean(error)))\n",
    "\n",
    "  #Fit the model again so that it can be refered outside the function:\n",
    "  model.fit(data[predictors],data[outcome]) "
   ]
  },
  {
   "cell_type": "code",
   "execution_count": 134,
   "metadata": {
    "collapsed": false
   },
   "outputs": [
    {
     "data": {
      "text/plain": [
       "Index(['ApplicantIncome', 'CoapplicantIncome', 'LoanAmount', 'Loan_ID',\n",
       "       'Loan_Status', 'Credit_History_0', 'Credit_History_1', 'Dependents_0',\n",
       "       'Dependents_1', 'Dependents_2', 'Dependents_3', 'Education_0',\n",
       "       'Education_1', 'Gender_0', 'Gender_1', 'Married_0', 'Married_1',\n",
       "       'Property_Area_0', 'Property_Area_1', 'Property_Area_2',\n",
       "       'Self_Employed_0', 'Self_Employed_1', 'Loan_Amount_Term_Combined_0',\n",
       "       'Loan_Amount_Term_Combined_1'],\n",
       "      dtype='object')"
      ]
     },
     "execution_count": 134,
     "metadata": {},
     "output_type": "execute_result"
    }
   ],
   "source": [
    "train_mod.dtypes.index\n"
   ]
  },
  {
   "cell_type": "code",
   "execution_count": 145,
   "metadata": {
    "collapsed": false
   },
   "outputs": [
    {
     "name": "stdout",
     "output_type": "stream",
     "text": [
      "Accuracy : 81.270%\n",
      "Cross-Validation Score : 80.946%\n"
     ]
    }
   ],
   "source": [
    "outcome_var = 'Loan_Status'\n",
    "model = LogisticRegression()\n",
    "predictor_var = ['ApplicantIncome', 'CoapplicantIncome', 'LoanAmount', 'Credit_History_0', 'Credit_History_1', 'Dependents_0',\n",
    "       'Dependents_1', 'Dependents_2', 'Dependents_3', 'Education_0',\n",
    "       'Education_1', 'Gender_0', 'Gender_1', 'Married_0', 'Married_1',\n",
    "       'Property_Area_0', 'Property_Area_1', 'Property_Area_2',\n",
    "       'Self_Employed_0', 'Self_Employed_1', 'Loan_Amount_Term_Combined_0',\n",
    "       'Loan_Amount_Term_Combined_1']\n",
    "classification_model(model,train_mod,predictor_var,outcome_var)\n"
   ]
  },
  {
   "cell_type": "code",
   "execution_count": 164,
   "metadata": {
    "collapsed": false
   },
   "outputs": [
    {
     "name": "stdout",
     "output_type": "stream",
     "text": [
      "Accuracy : 80.945%\n",
      "Cross-Validation Score : 70.355%\n"
     ]
    }
   ],
   "source": [
    "outcome_var = 'Loan_Status'\n",
    "model = DecisionTreeClassifier(max_depth=15,min_samples_leaf=75)\n",
    "predictor_var = ['ApplicantIncome', 'CoapplicantIncome', 'LoanAmount', 'Credit_History_0', 'Credit_History_1', 'Dependents_0',\n",
    "       'Dependents_1', 'Dependents_2', 'Dependents_3', 'Education_0',\n",
    "       'Education_1', 'Gender_0', 'Gender_1', 'Married_0', 'Married_1',\n",
    "       'Property_Area_0', 'Property_Area_1', 'Property_Area_2',\n",
    "       'Self_Employed_0', 'Self_Employed_1', 'Loan_Amount_Term_Combined_0',\n",
    "       'Loan_Amount_Term_Combined_1']\n",
    "classification_model(model,train_mod,predictor_var,outcome_var)"
   ]
  },
  {
   "cell_type": "code",
   "execution_count": null,
   "metadata": {
    "collapsed": true
   },
   "outputs": [],
   "source": []
  },
  {
   "cell_type": "code",
   "execution_count": 182,
   "metadata": {
    "collapsed": false
   },
   "outputs": [],
   "source": [
    "#data.loc[miss_bool,'LoanAmount']=data.loc[miss_bool,(['Gender','Married','Self_Employed'])].apply(\n",
    "#        lambda x: impute_groups.loc[x])"
   ]
  },
  {
   "cell_type": "code",
   "execution_count": null,
   "metadata": {
    "collapsed": true
   },
   "outputs": [],
   "source": []
  },
  {
   "cell_type": "code",
   "execution_count": 183,
   "metadata": {
    "collapsed": false
   },
   "outputs": [],
   "source": [
    "#---------------------------------------------------------------"
   ]
  },
  {
   "cell_type": "code",
   "execution_count": 258,
   "metadata": {
    "collapsed": true
   },
   "outputs": [],
   "source": [
    "df1 = pd.DataFrame(np.random.randn(6,4),\n",
    "                   columns=[('a','1'), ('b','2'), ('c','3'), 'nontuple'])"
   ]
  },
  {
   "cell_type": "code",
   "execution_count": 259,
   "metadata": {
    "collapsed": false
   },
   "outputs": [],
   "source": [
    "#Note: A difference between loc and iloc\n",
    "df1\n",
    "qgrid.show_grid(df1)"
   ]
  },
  {
   "cell_type": "code",
   "execution_count": 186,
   "metadata": {
    "collapsed": false
   },
   "outputs": [
    {
     "data": {
      "text/html": [
       "<div>\n",
       "<table border=\"1\" class=\"dataframe\">\n",
       "  <thead>\n",
       "    <tr style=\"text-align: right;\">\n",
       "      <th></th>\n",
       "      <th>(a, 1)</th>\n",
       "      <th>(b, 2)</th>\n",
       "      <th>(c, 3)</th>\n",
       "      <th>nontuple</th>\n",
       "    </tr>\n",
       "  </thead>\n",
       "  <tbody>\n",
       "    <tr>\n",
       "      <th>0</th>\n",
       "      <td>0.916051</td>\n",
       "      <td>2.029853</td>\n",
       "      <td>1.559955</td>\n",
       "      <td>0.113920</td>\n",
       "    </tr>\n",
       "    <tr>\n",
       "      <th>1</th>\n",
       "      <td>-0.206567</td>\n",
       "      <td>0.245048</td>\n",
       "      <td>0.155337</td>\n",
       "      <td>0.624901</td>\n",
       "    </tr>\n",
       "    <tr>\n",
       "      <th>2</th>\n",
       "      <td>-0.090727</td>\n",
       "      <td>2.048831</td>\n",
       "      <td>-0.297909</td>\n",
       "      <td>0.730775</td>\n",
       "    </tr>\n",
       "  </tbody>\n",
       "</table>\n",
       "</div>"
      ],
      "text/plain": [
       "     (a, 1)    (b, 2)    (c, 3)  nontuple\n",
       "0  0.916051  2.029853  1.559955  0.113920\n",
       "1 -0.206567  0.245048  0.155337  0.624901\n",
       "2 -0.090727  2.048831 -0.297909  0.730775"
      ]
     },
     "execution_count": 186,
     "metadata": {},
     "output_type": "execute_result"
    }
   ],
   "source": [
    "df1.loc[0:2]"
   ]
  },
  {
   "cell_type": "code",
   "execution_count": 187,
   "metadata": {
    "collapsed": true
   },
   "outputs": [],
   "source": [
    "#-------------------------------------------------------------------------------------"
   ]
  },
  {
   "cell_type": "code",
   "execution_count": 188,
   "metadata": {
    "collapsed": false
   },
   "outputs": [
    {
     "data": {
      "text/plain": [
       "Gender                0\n",
       "Married               0\n",
       "Dependents            0\n",
       "Education             0\n",
       "Self_Employed         0\n",
       "ApplicantIncome       0\n",
       "CoapplicantIncome     0\n",
       "LoanAmount            0\n",
       "Loan_Amount_Term     14\n",
       "Credit_History       50\n",
       "Property_Area         0\n",
       "Loan_Status           0\n",
       "dtype: int64"
      ]
     },
     "execution_count": 188,
     "metadata": {},
     "output_type": "execute_result"
    }
   ],
   "source": [
    "data.apply(lambda x: sum(x.isnull()))"
   ]
  },
  {
   "cell_type": "code",
   "execution_count": 189,
   "metadata": {
    "collapsed": false
   },
   "outputs": [
    {
     "data": {
      "text/html": [
       "<div>\n",
       "<table border=\"1\" class=\"dataframe\">\n",
       "  <thead>\n",
       "    <tr style=\"text-align: right;\">\n",
       "      <th></th>\n",
       "      <th>Gender</th>\n",
       "      <th>Married</th>\n",
       "      <th>Dependents</th>\n",
       "      <th>Education</th>\n",
       "      <th>Self_Employed</th>\n",
       "      <th>ApplicantIncome</th>\n",
       "      <th>CoapplicantIncome</th>\n",
       "      <th>LoanAmount</th>\n",
       "      <th>Loan_Amount_Term</th>\n",
       "      <th>Credit_History</th>\n",
       "      <th>Property_Area</th>\n",
       "      <th>Loan_Status</th>\n",
       "    </tr>\n",
       "    <tr>\n",
       "      <th>Loan_ID</th>\n",
       "      <th></th>\n",
       "      <th></th>\n",
       "      <th></th>\n",
       "      <th></th>\n",
       "      <th></th>\n",
       "      <th></th>\n",
       "      <th></th>\n",
       "      <th></th>\n",
       "      <th></th>\n",
       "      <th></th>\n",
       "      <th></th>\n",
       "      <th></th>\n",
       "    </tr>\n",
       "  </thead>\n",
       "  <tbody>\n",
       "  </tbody>\n",
       "</table>\n",
       "</div>"
      ],
      "text/plain": [
       "Empty DataFrame\n",
       "Columns: [Gender, Married, Dependents, Education, Self_Employed, ApplicantIncome, CoapplicantIncome, LoanAmount, Loan_Amount_Term, Credit_History, Property_Area, Loan_Status]\n",
       "Index: []"
      ]
     },
     "execution_count": 189,
     "metadata": {},
     "output_type": "execute_result"
    }
   ],
   "source": [
    "data.loc[data['LoanAmount'].isnull(),:]"
   ]
  },
  {
   "cell_type": "code",
   "execution_count": 190,
   "metadata": {
    "collapsed": false
   },
   "outputs": [
    {
     "data": {
      "text/html": [
       "<div>\n",
       "<table border=\"1\" class=\"dataframe\">\n",
       "  <thead>\n",
       "    <tr style=\"text-align: right;\">\n",
       "      <th>Loan_Status</th>\n",
       "      <th>N</th>\n",
       "      <th>Y</th>\n",
       "      <th>All</th>\n",
       "    </tr>\n",
       "    <tr>\n",
       "      <th>Credit_History</th>\n",
       "      <th></th>\n",
       "      <th></th>\n",
       "      <th></th>\n",
       "    </tr>\n",
       "  </thead>\n",
       "  <tbody>\n",
       "    <tr>\n",
       "      <th>0.0</th>\n",
       "      <td>82</td>\n",
       "      <td>7</td>\n",
       "      <td>89</td>\n",
       "    </tr>\n",
       "    <tr>\n",
       "      <th>1.0</th>\n",
       "      <td>97</td>\n",
       "      <td>378</td>\n",
       "      <td>475</td>\n",
       "    </tr>\n",
       "    <tr>\n",
       "      <th>All</th>\n",
       "      <td>179</td>\n",
       "      <td>385</td>\n",
       "      <td>564</td>\n",
       "    </tr>\n",
       "  </tbody>\n",
       "</table>\n",
       "</div>"
      ],
      "text/plain": [
       "Loan_Status       N    Y  All\n",
       "Credit_History               \n",
       "0.0              82    7   89\n",
       "1.0              97  378  475\n",
       "All             179  385  564"
      ]
     },
     "execution_count": 190,
     "metadata": {},
     "output_type": "execute_result"
    }
   ],
   "source": [
    "#crosstab:frequency table \n",
    "pd.crosstab(data['Credit_History'],data['Loan_Status'],margins=True)"
   ]
  },
  {
   "cell_type": "code",
   "execution_count": 191,
   "metadata": {
    "collapsed": false
   },
   "outputs": [
    {
     "data": {
      "text/html": [
       "<div>\n",
       "<table border=\"1\" class=\"dataframe\">\n",
       "  <thead>\n",
       "    <tr style=\"text-align: right;\">\n",
       "      <th>Loan_Status</th>\n",
       "      <th>N</th>\n",
       "      <th>Y</th>\n",
       "      <th>All</th>\n",
       "    </tr>\n",
       "    <tr>\n",
       "      <th>Credit_History</th>\n",
       "      <th></th>\n",
       "      <th></th>\n",
       "      <th></th>\n",
       "    </tr>\n",
       "  </thead>\n",
       "  <tbody>\n",
       "    <tr>\n",
       "      <th>0.0</th>\n",
       "      <td>0.921348</td>\n",
       "      <td>0.078652</td>\n",
       "      <td>1.0</td>\n",
       "    </tr>\n",
       "    <tr>\n",
       "      <th>1.0</th>\n",
       "      <td>0.204211</td>\n",
       "      <td>0.795789</td>\n",
       "      <td>1.0</td>\n",
       "    </tr>\n",
       "    <tr>\n",
       "      <th>All</th>\n",
       "      <td>0.317376</td>\n",
       "      <td>0.682624</td>\n",
       "      <td>1.0</td>\n",
       "    </tr>\n",
       "  </tbody>\n",
       "</table>\n",
       "</div>"
      ],
      "text/plain": [
       "Loan_Status            N         Y  All\n",
       "Credit_History                         \n",
       "0.0             0.921348  0.078652  1.0\n",
       "1.0             0.204211  0.795789  1.0\n",
       "All             0.317376  0.682624  1.0"
      ]
     },
     "execution_count": 191,
     "metadata": {},
     "output_type": "execute_result"
    }
   ],
   "source": [
    "pd.crosstab(data['Credit_History'],data['Loan_Status'],margins=True).apply(lambda x: x/float(x[-1]),axis=1)\n",
    "    "
   ]
  },
  {
   "cell_type": "code",
   "execution_count": 192,
   "metadata": {
    "collapsed": true
   },
   "outputs": [],
   "source": [
    "#Merge  DataFrames\n",
    "property_rate=pd.DataFrame([1000,5000,12000],index=['Rural','Semiurban','Urban'],\n",
    "                          columns=['rates'])"
   ]
  },
  {
   "cell_type": "code",
   "execution_count": 193,
   "metadata": {
    "collapsed": true
   },
   "outputs": [],
   "source": [
    "data_merged=data.merge(right=property_rate,how='inner',left_on='Property_Area',right_index=True,sort=False)"
   ]
  },
  {
   "cell_type": "code",
   "execution_count": 194,
   "metadata": {
    "collapsed": false
   },
   "outputs": [
    {
     "data": {
      "text/plain": [
       "Property_Area  rates\n",
       "Rural          1000     179\n",
       "Semiurban      5000     233\n",
       "Urban          12000    202\n",
       "Name: Gender, dtype: int64"
      ]
     },
     "execution_count": 194,
     "metadata": {},
     "output_type": "execute_result"
    }
   ],
   "source": [
    "data_merged.pivot_table(values='Gender',index=['Property_Area','rates'],aggfunc=len)"
   ]
  },
  {
   "cell_type": "code",
   "execution_count": 195,
   "metadata": {
    "collapsed": true
   },
   "outputs": [],
   "source": [
    "data_sorted = data.sort_values(['ApplicantIncome','CoapplicantIncome'],ascending=False)"
   ]
  },
  {
   "cell_type": "code",
   "execution_count": 196,
   "metadata": {
    "collapsed": false
   },
   "outputs": [
    {
     "data": {
      "text/html": [
       "<div>\n",
       "<table border=\"1\" class=\"dataframe\">\n",
       "  <thead>\n",
       "    <tr style=\"text-align: right;\">\n",
       "      <th></th>\n",
       "      <th>ApplicantIncome</th>\n",
       "      <th>CoapplicantIncome</th>\n",
       "    </tr>\n",
       "    <tr>\n",
       "      <th>Loan_ID</th>\n",
       "      <th></th>\n",
       "      <th></th>\n",
       "    </tr>\n",
       "  </thead>\n",
       "  <tbody>\n",
       "    <tr>\n",
       "      <th>LP002317</th>\n",
       "      <td>81000</td>\n",
       "      <td>0.0</td>\n",
       "    </tr>\n",
       "    <tr>\n",
       "      <th>LP002101</th>\n",
       "      <td>63337</td>\n",
       "      <td>0.0</td>\n",
       "    </tr>\n",
       "    <tr>\n",
       "      <th>LP001585</th>\n",
       "      <td>51763</td>\n",
       "      <td>0.0</td>\n",
       "    </tr>\n",
       "    <tr>\n",
       "      <th>LP001536</th>\n",
       "      <td>39999</td>\n",
       "      <td>0.0</td>\n",
       "    </tr>\n",
       "    <tr>\n",
       "      <th>LP001640</th>\n",
       "      <td>39147</td>\n",
       "      <td>4750.0</td>\n",
       "    </tr>\n",
       "    <tr>\n",
       "      <th>LP002422</th>\n",
       "      <td>37719</td>\n",
       "      <td>0.0</td>\n",
       "    </tr>\n",
       "    <tr>\n",
       "      <th>LP001637</th>\n",
       "      <td>33846</td>\n",
       "      <td>0.0</td>\n",
       "    </tr>\n",
       "    <tr>\n",
       "      <th>LP001448</th>\n",
       "      <td>23803</td>\n",
       "      <td>0.0</td>\n",
       "    </tr>\n",
       "    <tr>\n",
       "      <th>LP002624</th>\n",
       "      <td>20833</td>\n",
       "      <td>6667.0</td>\n",
       "    </tr>\n",
       "    <tr>\n",
       "      <th>LP001922</th>\n",
       "      <td>20667</td>\n",
       "      <td>0.0</td>\n",
       "    </tr>\n",
       "  </tbody>\n",
       "</table>\n",
       "</div>"
      ],
      "text/plain": [
       "          ApplicantIncome  CoapplicantIncome\n",
       "Loan_ID                                     \n",
       "LP002317            81000                0.0\n",
       "LP002101            63337                0.0\n",
       "LP001585            51763                0.0\n",
       "LP001536            39999                0.0\n",
       "LP001640            39147             4750.0\n",
       "LP002422            37719                0.0\n",
       "LP001637            33846                0.0\n",
       "LP001448            23803                0.0\n",
       "LP002624            20833             6667.0\n",
       "LP001922            20667                0.0"
      ]
     },
     "execution_count": 196,
     "metadata": {},
     "output_type": "execute_result"
    }
   ],
   "source": [
    "data_sorted[['ApplicantIncome','CoapplicantIncome']].head(10)"
   ]
  },
  {
   "cell_type": "code",
   "execution_count": 197,
   "metadata": {
    "collapsed": true
   },
   "outputs": [],
   "source": [
    "import matplotlib.pyplot as plt"
   ]
  },
  {
   "cell_type": "code",
   "execution_count": 198,
   "metadata": {
    "collapsed": false
   },
   "outputs": [
    {
     "data": {
      "text/plain": [
       "<matplotlib.axes._subplots.AxesSubplot at 0x186357cb898>"
      ]
     },
     "execution_count": 198,
     "metadata": {},
     "output_type": "execute_result"
    },
    {
     "data": {
      "image/png": "[encoded data removed]",
      "text/plain": [
       "<matplotlib.figure.Figure at 0x186357cd828>"
      ]
     },
     "metadata": {},
     "output_type": "display_data"
    }
   ],
   "source": [
    "%matplotlib inline\n",
    "data.boxplot(column='ApplicantIncome',by='Loan_Status')"
   ]
  },
  {
   "cell_type": "code",
   "execution_count": 187,
   "metadata": {
    "collapsed": false
   },
   "outputs": [
    {
     "data": {
      "text/plain": [
       "array([<matplotlib.axes._subplots.AxesSubplot object at 0x000002214563FC88>,\n",
       "       <matplotlib.axes._subplots.AxesSubplot object at 0x00000221456C0C50>], dtype=object)"
      ]
     },
     "execution_count": 187,
     "metadata": {},
     "output_type": "execute_result"
    },
    {
     "data": {
      "image/png": "[encoded data removed]",
      "text/plain": [
       "<matplotlib.figure.Figure at 0x2213cc60cf8>"
      ]
     },
     "metadata": {},
     "output_type": "display_data"
    }
   ],
   "source": [
    "combine_clean.hist(column='ApplicantIncome',by='Loan_Status',bins=30)"
   ]
  },
  {
   "cell_type": "code",
   "execution_count": 200,
   "metadata": {
    "collapsed": false
   },
   "outputs": [
    {
     "name": "stderr",
     "output_type": "stream",
     "text": [
      "C:\\Users\\zfang\\AppData\\Local\\Continuum\\Anaconda3\\lib\\site-packages\\numpy\\lib\\function_base.py:3834: RuntimeWarning: Invalid value encountered in percentile\n",
      "  RuntimeWarning)\n"
     ]
    },
    {
     "data": {
      "text/html": [
       "<div>\n",
       "<table border=\"1\" class=\"dataframe\">\n",
       "  <thead>\n",
       "    <tr style=\"text-align: right;\">\n",
       "      <th></th>\n",
       "      <th>ApplicantIncome</th>\n",
       "      <th>CoapplicantIncome</th>\n",
       "      <th>LoanAmount</th>\n",
       "      <th>Loan_Amount_Term</th>\n",
       "      <th>Credit_History</th>\n",
       "    </tr>\n",
       "  </thead>\n",
       "  <tbody>\n",
       "    <tr>\n",
       "      <th>count</th>\n",
       "      <td>614.000000</td>\n",
       "      <td>614.000000</td>\n",
       "      <td>614.000000</td>\n",
       "      <td>600.00000</td>\n",
       "      <td>564.000000</td>\n",
       "    </tr>\n",
       "    <tr>\n",
       "      <th>mean</th>\n",
       "      <td>5403.459283</td>\n",
       "      <td>1621.245798</td>\n",
       "      <td>146.393783</td>\n",
       "      <td>342.00000</td>\n",
       "      <td>0.842199</td>\n",
       "    </tr>\n",
       "    <tr>\n",
       "      <th>std</th>\n",
       "      <td>6109.041673</td>\n",
       "      <td>2926.248369</td>\n",
       "      <td>84.082713</td>\n",
       "      <td>65.12041</td>\n",
       "      <td>0.364878</td>\n",
       "    </tr>\n",
       "    <tr>\n",
       "      <th>min</th>\n",
       "      <td>150.000000</td>\n",
       "      <td>0.000000</td>\n",
       "      <td>9.000000</td>\n",
       "      <td>12.00000</td>\n",
       "      <td>0.000000</td>\n",
       "    </tr>\n",
       "    <tr>\n",
       "      <th>25%</th>\n",
       "      <td>2877.500000</td>\n",
       "      <td>0.000000</td>\n",
       "      <td>100.250000</td>\n",
       "      <td>NaN</td>\n",
       "      <td>NaN</td>\n",
       "    </tr>\n",
       "    <tr>\n",
       "      <th>50%</th>\n",
       "      <td>3812.500000</td>\n",
       "      <td>1188.500000</td>\n",
       "      <td>128.000000</td>\n",
       "      <td>NaN</td>\n",
       "      <td>NaN</td>\n",
       "    </tr>\n",
       "    <tr>\n",
       "      <th>75%</th>\n",
       "      <td>5795.000000</td>\n",
       "      <td>2297.250000</td>\n",
       "      <td>165.000000</td>\n",
       "      <td>NaN</td>\n",
       "      <td>NaN</td>\n",
       "    </tr>\n",
       "    <tr>\n",
       "      <th>max</th>\n",
       "      <td>81000.000000</td>\n",
       "      <td>41667.000000</td>\n",
       "      <td>700.000000</td>\n",
       "      <td>480.00000</td>\n",
       "      <td>1.000000</td>\n",
       "    </tr>\n",
       "  </tbody>\n",
       "</table>\n",
       "</div>"
      ],
      "text/plain": [
       "       ApplicantIncome  CoapplicantIncome  LoanAmount  Loan_Amount_Term  \\\n",
       "count       614.000000         614.000000  614.000000         600.00000   \n",
       "mean       5403.459283        1621.245798  146.393783         342.00000   \n",
       "std        6109.041673        2926.248369   84.082713          65.12041   \n",
       "min         150.000000           0.000000    9.000000          12.00000   \n",
       "25%        2877.500000           0.000000  100.250000               NaN   \n",
       "50%        3812.500000        1188.500000  128.000000               NaN   \n",
       "75%        5795.000000        2297.250000  165.000000               NaN   \n",
       "max       81000.000000       41667.000000  700.000000         480.00000   \n",
       "\n",
       "       Credit_History  \n",
       "count      564.000000  \n",
       "mean         0.842199  \n",
       "std          0.364878  \n",
       "min          0.000000  \n",
       "25%               NaN  \n",
       "50%               NaN  \n",
       "75%               NaN  \n",
       "max          1.000000  "
      ]
     },
     "execution_count": 200,
     "metadata": {},
     "output_type": "execute_result"
    }
   ],
   "source": [
    "data.describe()"
   ]
  },
  {
   "cell_type": "code",
   "execution_count": 201,
   "metadata": {
    "collapsed": true
   },
   "outputs": [],
   "source": [
    "\n",
    "#To cluster numerical variable; Create Binning for numerical variable\n",
    "def binning(col, cut_points, labels=None):\n",
    "    #Define min and max values:\n",
    "    minval = col.min()\n",
    "    maxval = col.max()\n",
    "\n",
    "    #create list by adding min and max to cut_points\n",
    "    break_points = [minval] + cut_points + [maxval]\n",
    "\n",
    "    #if no labels provided, use default labels 0 ... (n-1)\n",
    "    if not labels:\n",
    "        labels = range(len(cut_points)+1)\n",
    "\n",
    "    #Binning using cut function of pandas\n",
    "    colBin = pd.cut(col,bins=break_points,labels=labels,include_lowest=True)\n",
    "    return colBin"
   ]
  },
  {
   "cell_type": "code",
   "execution_count": 204,
   "metadata": {
    "collapsed": false
   },
   "outputs": [],
   "source": [
    "#[data['LoanAmount'].max()]+[data['LoanAmount'].min()]"
   ]
  },
  {
   "cell_type": "code",
   "execution_count": 205,
   "metadata": {
    "collapsed": false
   },
   "outputs": [],
   "source": [
    "#range(len([data['LoanAmount'].max()]+[data['LoanAmount'].min()])+1)"
   ]
  },
  {
   "cell_type": "code",
   "execution_count": null,
   "metadata": {
    "collapsed": true
   },
   "outputs": [],
   "source": []
  }
 ],
 "metadata": {
  "anaconda-cloud": {},
  "kernelspec": {
   "display_name": "Python [default]",
   "language": "python",
   "name": "python3"
  },
  "language_info": {
   "codemirror_mode": {
    "name": "ipython",
    "version": 3
   },
   "file_extension": ".py",
   "mimetype": "text/x-python",
   "name": "python",
   "nbconvert_exporter": "python",
   "pygments_lexer": "ipython3",
   "version": "3.5.2"
  },
  "widgets": {
   "state": {
    "13d572fd1c4f4ac6b41b84793261eed7": {
     "views": [
      {
       "cell_index": 111
      }
     ]
    }
   },
   "version": "1.2.0"
  }
 },
 "nbformat": 4,
 "nbformat_minor": 1
}
