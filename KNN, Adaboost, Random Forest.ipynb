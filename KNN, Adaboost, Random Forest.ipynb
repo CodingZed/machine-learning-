{
 "cells": [
  {
   "cell_type": "code",
   "execution_count": 1,
   "metadata": {
    "collapsed": true
   },
   "outputs": [],
   "source": [
    "import numpy as np"
   ]
  },
  {
   "cell_type": "code",
   "execution_count": 2,
   "metadata": {
    "collapsed": true
   },
   "outputs": [],
   "source": [
    "import os"
   ]
  },
  {
   "cell_type": "code",
   "execution_count": 3,
   "metadata": {
    "collapsed": false
   },
   "outputs": [
    {
     "data": {
      "text/plain": [
       "'/Users/apple/Documents/ML/Intro_of_ML'"
      ]
     },
     "execution_count": 3,
     "metadata": {},
     "output_type": "execute_result"
    }
   ],
   "source": [
    "os.getcwd()"
   ]
  },
  {
   "cell_type": "markdown",
   "metadata": {},
   "source": [
    "#### Import Script "
   ]
  },
  {
   "cell_type": "code",
   "execution_count": 4,
   "metadata": {
    "collapsed": true
   },
   "outputs": [],
   "source": [
    "import sys"
   ]
  },
  {
   "cell_type": "code",
   "execution_count": 5,
   "metadata": {
    "collapsed": true
   },
   "outputs": [],
   "source": [
    "sys.path.append('ud120-projects/choose_your_own/')"
   ]
  },
  {
   "cell_type": "code",
   "execution_count": 6,
   "metadata": {
    "collapsed": true
   },
   "outputs": [],
   "source": [
    "from prep_terrain_data import makeTerrainData"
   ]
  },
  {
   "cell_type": "code",
   "execution_count": 7,
   "metadata": {
    "collapsed": true
   },
   "outputs": [],
   "source": [
    "from class_vis import prettyPicture"
   ]
  },
  {
   "cell_type": "markdown",
   "metadata": {},
   "source": [
    "#### Processing "
   ]
  },
  {
   "cell_type": "code",
   "execution_count": 8,
   "metadata": {
    "collapsed": true
   },
   "outputs": [],
   "source": [
    "features_train, labels_train, features_test, labels_test = makeTerrainData()"
   ]
  },
  {
   "cell_type": "code",
   "execution_count": 9,
   "metadata": {
    "collapsed": true
   },
   "outputs": [],
   "source": [
    "### the training data (features_train, labels_train) have both \"fast\" and \"slow\"\n",
    "### points mixed together--separate them so we can give them different colors\n",
    "### in the scatterplot and identify them visually\n",
    "grade_fast = [features_train[ii][0] for ii in range(0, len(features_train)) if labels_train[ii]==0]\n",
    "bumpy_fast = [features_train[ii][1] for ii in range(0, len(features_train)) if labels_train[ii]==0]\n",
    "grade_slow = [features_train[ii][0] for ii in range(0, len(features_train)) if labels_train[ii]==1]\n",
    "bumpy_slow = [features_train[ii][1] for ii in range(0, len(features_train)) if labels_train[ii]==1]"
   ]
  },
  {
   "cell_type": "code",
   "execution_count": 10,
   "metadata": {
    "collapsed": true
   },
   "outputs": [],
   "source": [
    "### Initial visualization\n",
    "import matplotlib.pyplot as plt\n",
    "%matplotlib inline"
   ]
  },
  {
   "cell_type": "code",
   "execution_count": 11,
   "metadata": {
    "collapsed": false
   },
   "outputs": [
    {
     "data": {
      "image/png": "[encoded data removed]",
      "text/plain": [
       "<matplotlib.figure.Figure at 0x11049c2d0>"
      ]
     },
     "metadata": {},
     "output_type": "display_data"
    }
   ],
   "source": [
    "plt.xlim(0.0,1.0)\n",
    "plt.ylim(0.0,1.0)\n",
    "plt.scatter(bumpy_fast,grade_fast,c='b',label='fast')\n",
    "plt.scatter(bumpy_slow,grade_slow,c='r',label='slow')\n",
    "plt.legend()\n",
    "plt.xlabel('bumpiness')\n",
    "plt.ylabel('grade')\n",
    "plt.show()"
   ]
  },
  {
   "cell_type": "code",
   "execution_count": 12,
   "metadata": {
    "collapsed": false
   },
   "outputs": [
    {
     "data": {
      "text/plain": [
       "750"
      ]
     },
     "execution_count": 12,
     "metadata": {},
     "output_type": "execute_result"
    }
   ],
   "source": [
    "len(features_train)"
   ]
  },
  {
   "cell_type": "markdown",
   "metadata": {},
   "source": [
    "#### Model "
   ]
  },
  {
   "cell_type": "code",
   "execution_count": 13,
   "metadata": {
    "collapsed": true
   },
   "outputs": [],
   "source": [
    "from sklearn.model_selection import GridSearchCV"
   ]
  },
  {
   "cell_type": "code",
   "execution_count": 14,
   "metadata": {
    "collapsed": true
   },
   "outputs": [],
   "source": [
    "from sklearn.metrics import accuracy_score"
   ]
  },
  {
   "cell_type": "markdown",
   "metadata": {},
   "source": [
    "* KNN"
   ]
  },
  {
   "cell_type": "code",
   "execution_count": 15,
   "metadata": {
    "collapsed": true
   },
   "outputs": [],
   "source": [
    "from sklearn.neighbors import KNeighborsClassifier"
   ]
  },
  {
   "cell_type": "code",
   "execution_count": 16,
   "metadata": {
    "collapsed": true
   },
   "outputs": [],
   "source": [
    "clf=KNeighborsClassifier(algorithm='auto',leaf_size=20)"
   ]
  },
  {
   "cell_type": "code",
   "execution_count": 17,
   "metadata": {
    "collapsed": false
   },
   "outputs": [
    {
     "data": {
      "text/plain": [
       "KNeighborsClassifier(algorithm='auto', leaf_size=20, metric='minkowski',\n",
       "           metric_params=None, n_jobs=1, n_neighbors=5, p=2,\n",
       "           weights='uniform')"
      ]
     },
     "execution_count": 17,
     "metadata": {},
     "output_type": "execute_result"
    }
   ],
   "source": [
    "clf.fit(features_train,labels_train)"
   ]
  },
  {
   "cell_type": "code",
   "execution_count": 18,
   "metadata": {
    "collapsed": false
   },
   "outputs": [
    {
     "data": {
      "text/plain": [
       "0.92000000000000004"
      ]
     },
     "execution_count": 18,
     "metadata": {},
     "output_type": "execute_result"
    }
   ],
   "source": [
    "clf.score(features_test,labels_test)"
   ]
  },
  {
   "cell_type": "code",
   "execution_count": 19,
   "metadata": {
    "collapsed": false
   },
   "outputs": [],
   "source": [
    "pred=clf.predict(features_test)"
   ]
  },
  {
   "cell_type": "code",
   "execution_count": 20,
   "metadata": {
    "collapsed": true
   },
   "outputs": [],
   "source": [
    "param_grid={'n_neighbors':[4,5,6],\n",
    "            'weights':['uniform','distance'],\n",
    "            'leaf_size':[20,30,40,50],\n",
    "            'p':[1,2]}"
   ]
  },
  {
   "cell_type": "code",
   "execution_count": 21,
   "metadata": {
    "collapsed": true
   },
   "outputs": [],
   "source": [
    "clf_CV=GridSearchCV(estimator=clf,param_grid=param_grid,cv=5)"
   ]
  },
  {
   "cell_type": "code",
   "execution_count": 22,
   "metadata": {
    "collapsed": false
   },
   "outputs": [
    {
     "data": {
      "text/plain": [
       "GridSearchCV(cv=5, error_score='raise',\n",
       "       estimator=KNeighborsClassifier(algorithm='auto', leaf_size=20, metric='minkowski',\n",
       "           metric_params=None, n_jobs=1, n_neighbors=5, p=2,\n",
       "           weights='uniform'),\n",
       "       fit_params={}, iid=True, n_jobs=1,\n",
       "       param_grid={'n_neighbors': [4, 5, 6], 'weights': ['uniform', 'distance'], 'leaf_size': [20, 30, 40, 50], 'p': [1, 2]},\n",
       "       pre_dispatch='2*n_jobs', refit=True, return_train_score=True,\n",
       "       scoring=None, verbose=0)"
      ]
     },
     "execution_count": 22,
     "metadata": {},
     "output_type": "execute_result"
    }
   ],
   "source": [
    "clf_CV.fit(features_train,labels_train)"
   ]
  },
  {
   "cell_type": "code",
   "execution_count": 23,
   "metadata": {
    "collapsed": false
   },
   "outputs": [
    {
     "name": "stderr",
     "output_type": "stream",
     "text": [
      "/Users/apple/anaconda/envs/python2/lib/python2.7/site-packages/sklearn/model_selection/_search.py:667: DeprecationWarning: The grid_scores_ attribute was deprecated in version 0.18 in favor of the more elaborate cv_results_ attribute. The grid_scores_ attribute will not be available from 0.20\n",
      "  DeprecationWarning)\n"
     ]
    },
    {
     "data": {
      "text/plain": [
       "[mean: 0.94267, std: 0.01489, params: {'n_neighbors': 4, 'weights': 'uniform', 'leaf_size': 20, 'p': 1},\n",
       " mean: 0.93867, std: 0.01757, params: {'n_neighbors': 4, 'weights': 'distance', 'leaf_size': 20, 'p': 1},\n",
       " mean: 0.94533, std: 0.01946, params: {'n_neighbors': 4, 'weights': 'uniform', 'leaf_size': 20, 'p': 2},\n",
       " mean: 0.93867, std: 0.01904, params: {'n_neighbors': 4, 'weights': 'distance', 'leaf_size': 20, 'p': 2},\n",
       " mean: 0.95333, std: 0.00735, params: {'n_neighbors': 5, 'weights': 'uniform', 'leaf_size': 20, 'p': 1},\n",
       " mean: 0.94533, std: 0.01757, params: {'n_neighbors': 5, 'weights': 'distance', 'leaf_size': 20, 'p': 1},\n",
       " mean: 0.94933, std: 0.01087, params: {'n_neighbors': 5, 'weights': 'uniform', 'leaf_size': 20, 'p': 2},\n",
       " mean: 0.94133, std: 0.02038, params: {'n_neighbors': 5, 'weights': 'distance', 'leaf_size': 20, 'p': 2},\n",
       " mean: 0.94667, std: 0.01572, params: {'n_neighbors': 6, 'weights': 'uniform', 'leaf_size': 20, 'p': 1},\n",
       " mean: 0.95067, std: 0.01367, params: {'n_neighbors': 6, 'weights': 'distance', 'leaf_size': 20, 'p': 1},\n",
       " mean: 0.95067, std: 0.01427, params: {'n_neighbors': 6, 'weights': 'uniform', 'leaf_size': 20, 'p': 2},\n",
       " mean: 0.94667, std: 0.01112, params: {'n_neighbors': 6, 'weights': 'distance', 'leaf_size': 20, 'p': 2},\n",
       " mean: 0.94267, std: 0.01489, params: {'n_neighbors': 4, 'weights': 'uniform', 'leaf_size': 30, 'p': 1},\n",
       " mean: 0.93867, std: 0.01757, params: {'n_neighbors': 4, 'weights': 'distance', 'leaf_size': 30, 'p': 1},\n",
       " mean: 0.94533, std: 0.01946, params: {'n_neighbors': 4, 'weights': 'uniform', 'leaf_size': 30, 'p': 2},\n",
       " mean: 0.93867, std: 0.01904, params: {'n_neighbors': 4, 'weights': 'distance', 'leaf_size': 30, 'p': 2},\n",
       " mean: 0.95333, std: 0.00735, params: {'n_neighbors': 5, 'weights': 'uniform', 'leaf_size': 30, 'p': 1},\n",
       " mean: 0.94533, std: 0.01757, params: {'n_neighbors': 5, 'weights': 'distance', 'leaf_size': 30, 'p': 1},\n",
       " mean: 0.94933, std: 0.01087, params: {'n_neighbors': 5, 'weights': 'uniform', 'leaf_size': 30, 'p': 2},\n",
       " mean: 0.94133, std: 0.02038, params: {'n_neighbors': 5, 'weights': 'distance', 'leaf_size': 30, 'p': 2},\n",
       " mean: 0.94667, std: 0.01572, params: {'n_neighbors': 6, 'weights': 'uniform', 'leaf_size': 30, 'p': 1},\n",
       " mean: 0.95067, std: 0.01367, params: {'n_neighbors': 6, 'weights': 'distance', 'leaf_size': 30, 'p': 1},\n",
       " mean: 0.95067, std: 0.01427, params: {'n_neighbors': 6, 'weights': 'uniform', 'leaf_size': 30, 'p': 2},\n",
       " mean: 0.94667, std: 0.01112, params: {'n_neighbors': 6, 'weights': 'distance', 'leaf_size': 30, 'p': 2},\n",
       " mean: 0.94267, std: 0.01489, params: {'n_neighbors': 4, 'weights': 'uniform', 'leaf_size': 40, 'p': 1},\n",
       " mean: 0.93867, std: 0.01757, params: {'n_neighbors': 4, 'weights': 'distance', 'leaf_size': 40, 'p': 1},\n",
       " mean: 0.94533, std: 0.01946, params: {'n_neighbors': 4, 'weights': 'uniform', 'leaf_size': 40, 'p': 2},\n",
       " mean: 0.93867, std: 0.01904, params: {'n_neighbors': 4, 'weights': 'distance', 'leaf_size': 40, 'p': 2},\n",
       " mean: 0.95333, std: 0.00735, params: {'n_neighbors': 5, 'weights': 'uniform', 'leaf_size': 40, 'p': 1},\n",
       " mean: 0.94533, std: 0.01757, params: {'n_neighbors': 5, 'weights': 'distance', 'leaf_size': 40, 'p': 1},\n",
       " mean: 0.94933, std: 0.01087, params: {'n_neighbors': 5, 'weights': 'uniform', 'leaf_size': 40, 'p': 2},\n",
       " mean: 0.94133, std: 0.02038, params: {'n_neighbors': 5, 'weights': 'distance', 'leaf_size': 40, 'p': 2},\n",
       " mean: 0.94667, std: 0.01572, params: {'n_neighbors': 6, 'weights': 'uniform', 'leaf_size': 40, 'p': 1},\n",
       " mean: 0.95067, std: 0.01367, params: {'n_neighbors': 6, 'weights': 'distance', 'leaf_size': 40, 'p': 1},\n",
       " mean: 0.95067, std: 0.01427, params: {'n_neighbors': 6, 'weights': 'uniform', 'leaf_size': 40, 'p': 2},\n",
       " mean: 0.94667, std: 0.01112, params: {'n_neighbors': 6, 'weights': 'distance', 'leaf_size': 40, 'p': 2},\n",
       " mean: 0.94267, std: 0.01489, params: {'n_neighbors': 4, 'weights': 'uniform', 'leaf_size': 50, 'p': 1},\n",
       " mean: 0.93867, std: 0.01757, params: {'n_neighbors': 4, 'weights': 'distance', 'leaf_size': 50, 'p': 1},\n",
       " mean: 0.94533, std: 0.01946, params: {'n_neighbors': 4, 'weights': 'uniform', 'leaf_size': 50, 'p': 2},\n",
       " mean: 0.93867, std: 0.01904, params: {'n_neighbors': 4, 'weights': 'distance', 'leaf_size': 50, 'p': 2},\n",
       " mean: 0.95333, std: 0.00735, params: {'n_neighbors': 5, 'weights': 'uniform', 'leaf_size': 50, 'p': 1},\n",
       " mean: 0.94533, std: 0.01757, params: {'n_neighbors': 5, 'weights': 'distance', 'leaf_size': 50, 'p': 1},\n",
       " mean: 0.94933, std: 0.01087, params: {'n_neighbors': 5, 'weights': 'uniform', 'leaf_size': 50, 'p': 2},\n",
       " mean: 0.94133, std: 0.02038, params: {'n_neighbors': 5, 'weights': 'distance', 'leaf_size': 50, 'p': 2},\n",
       " mean: 0.94667, std: 0.01572, params: {'n_neighbors': 6, 'weights': 'uniform', 'leaf_size': 50, 'p': 1},\n",
       " mean: 0.95067, std: 0.01367, params: {'n_neighbors': 6, 'weights': 'distance', 'leaf_size': 50, 'p': 1},\n",
       " mean: 0.95067, std: 0.01427, params: {'n_neighbors': 6, 'weights': 'uniform', 'leaf_size': 50, 'p': 2},\n",
       " mean: 0.94667, std: 0.01112, params: {'n_neighbors': 6, 'weights': 'distance', 'leaf_size': 50, 'p': 2}]"
      ]
     },
     "execution_count": 23,
     "metadata": {},
     "output_type": "execute_result"
    }
   ],
   "source": [
    "clf_CV.grid_scores_"
   ]
  },
  {
   "cell_type": "code",
   "execution_count": 24,
   "metadata": {
    "collapsed": false
   },
   "outputs": [
    {
     "data": {
      "text/plain": [
       "{'leaf_size': 20, 'n_neighbors': 5, 'p': 1, 'weights': 'uniform'}"
      ]
     },
     "execution_count": 24,
     "metadata": {},
     "output_type": "execute_result"
    }
   ],
   "source": [
    "clf_CV.best_params_"
   ]
  },
  {
   "cell_type": "code",
   "execution_count": 25,
   "metadata": {
    "collapsed": false
   },
   "outputs": [
    {
     "data": {
      "image/png": "[encoded data removed]",
      "text/plain": [
       "<matplotlib.figure.Figure at 0x11388bc90>"
      ]
     },
     "metadata": {},
     "output_type": "display_data"
    }
   ],
   "source": [
    "try:\n",
    "    prettyPicture(clf, features_test, labels_test)\n",
    "except NameError:\n",
    "    pass"
   ]
  },
  {
   "cell_type": "markdown",
   "metadata": {},
   "source": [
    "* Adaboost"
   ]
  },
  {
   "cell_type": "code",
   "execution_count": 26,
   "metadata": {
    "collapsed": true
   },
   "outputs": [],
   "source": [
    "from sklearn.ensemble import AdaBoostClassifier"
   ]
  },
  {
   "cell_type": "code",
   "execution_count": 27,
   "metadata": {
    "collapsed": true
   },
   "outputs": [],
   "source": [
    "clf=AdaBoostClassifier(n_estimators=40,learning_rate=0.4,random_state=1)"
   ]
  },
  {
   "cell_type": "code",
   "execution_count": 28,
   "metadata": {
    "collapsed": false
   },
   "outputs": [
    {
     "data": {
      "text/plain": [
       "AdaBoostClassifier(algorithm='SAMME.R', base_estimator=None,\n",
       "          learning_rate=0.4, n_estimators=40, random_state=1)"
      ]
     },
     "execution_count": 28,
     "metadata": {},
     "output_type": "execute_result"
    }
   ],
   "source": [
    "clf.fit(features_train,labels_train)"
   ]
  },
  {
   "cell_type": "code",
   "execution_count": 29,
   "metadata": {
    "collapsed": false
   },
   "outputs": [
    {
     "data": {
      "text/plain": [
       "0.92800000000000005"
      ]
     },
     "execution_count": 29,
     "metadata": {},
     "output_type": "execute_result"
    }
   ],
   "source": [
    "clf.score(features_test,labels_test)"
   ]
  },
  {
   "cell_type": "code",
   "execution_count": 30,
   "metadata": {
    "collapsed": true
   },
   "outputs": [],
   "source": [
    "param_grid={'n_estimators':[40,50,60],\n",
    "            'learning_rate':[0.2,0.4,0.6,0.8,1],\n",
    "            'algorithm':['SAMME.R','SAMME']}"
   ]
  },
  {
   "cell_type": "code",
   "execution_count": 31,
   "metadata": {
    "collapsed": true
   },
   "outputs": [],
   "source": [
    "clf2_CV=GridSearchCV(clf,param_grid=param_grid,cv=5)"
   ]
  },
  {
   "cell_type": "code",
   "execution_count": 32,
   "metadata": {
    "collapsed": false
   },
   "outputs": [
    {
     "data": {
      "text/plain": [
       "GridSearchCV(cv=5, error_score='raise',\n",
       "       estimator=AdaBoostClassifier(algorithm='SAMME.R', base_estimator=None,\n",
       "          learning_rate=0.4, n_estimators=40, random_state=1),\n",
       "       fit_params={}, iid=True, n_jobs=1,\n",
       "       param_grid={'n_estimators': [40, 50, 60], 'learning_rate': [0.2, 0.4, 0.6, 0.8, 1], 'algorithm': ['SAMME.R', 'SAMME']},\n",
       "       pre_dispatch='2*n_jobs', refit=True, return_train_score=True,\n",
       "       scoring=None, verbose=0)"
      ]
     },
     "execution_count": 32,
     "metadata": {},
     "output_type": "execute_result"
    }
   ],
   "source": [
    "clf2_CV.fit(features_train,labels_train)"
   ]
  },
  {
   "cell_type": "code",
   "execution_count": 33,
   "metadata": {
    "collapsed": false
   },
   "outputs": [
    {
     "name": "stderr",
     "output_type": "stream",
     "text": [
      "/Users/apple/anaconda/envs/python2/lib/python2.7/site-packages/sklearn/model_selection/_search.py:667: DeprecationWarning: The grid_scores_ attribute was deprecated in version 0.18 in favor of the more elaborate cv_results_ attribute. The grid_scores_ attribute will not be available from 0.20\n",
      "  DeprecationWarning)\n"
     ]
    },
    {
     "data": {
      "text/plain": [
       "[mean: 0.95733, std: 0.01247, params: {'n_estimators': 40, 'learning_rate': 0.2, 'algorithm': 'SAMME.R'},\n",
       " mean: 0.95600, std: 0.01247, params: {'n_estimators': 50, 'learning_rate': 0.2, 'algorithm': 'SAMME.R'},\n",
       " mean: 0.95733, std: 0.00815, params: {'n_estimators': 60, 'learning_rate': 0.2, 'algorithm': 'SAMME.R'},\n",
       " mean: 0.96133, std: 0.00499, params: {'n_estimators': 40, 'learning_rate': 0.4, 'algorithm': 'SAMME.R'},\n",
       " mean: 0.95867, std: 0.00786, params: {'n_estimators': 50, 'learning_rate': 0.4, 'algorithm': 'SAMME.R'},\n",
       " mean: 0.95867, std: 0.00786, params: {'n_estimators': 60, 'learning_rate': 0.4, 'algorithm': 'SAMME.R'},\n",
       " mean: 0.95733, std: 0.00808, params: {'n_estimators': 40, 'learning_rate': 0.6, 'algorithm': 'SAMME.R'},\n",
       " mean: 0.95600, std: 0.01086, params: {'n_estimators': 50, 'learning_rate': 0.6, 'algorithm': 'SAMME.R'},\n",
       " mean: 0.95467, std: 0.01224, params: {'n_estimators': 60, 'learning_rate': 0.6, 'algorithm': 'SAMME.R'},\n",
       " mean: 0.95733, std: 0.01162, params: {'n_estimators': 40, 'learning_rate': 0.8, 'algorithm': 'SAMME.R'},\n",
       " mean: 0.95733, std: 0.01162, params: {'n_estimators': 50, 'learning_rate': 0.8, 'algorithm': 'SAMME.R'},\n",
       " mean: 0.95867, std: 0.00980, params: {'n_estimators': 60, 'learning_rate': 0.8, 'algorithm': 'SAMME.R'},\n",
       " mean: 0.95867, std: 0.01067, params: {'n_estimators': 40, 'learning_rate': 1, 'algorithm': 'SAMME.R'},\n",
       " mean: 0.95733, std: 0.01001, params: {'n_estimators': 50, 'learning_rate': 1, 'algorithm': 'SAMME.R'},\n",
       " mean: 0.95600, std: 0.01239, params: {'n_estimators': 60, 'learning_rate': 1, 'algorithm': 'SAMME.R'},\n",
       " mean: 0.94267, std: 0.01494, params: {'n_estimators': 40, 'learning_rate': 0.2, 'algorithm': 'SAMME'},\n",
       " mean: 0.94667, std: 0.01395, params: {'n_estimators': 50, 'learning_rate': 0.2, 'algorithm': 'SAMME'},\n",
       " mean: 0.95333, std: 0.01188, params: {'n_estimators': 60, 'learning_rate': 0.2, 'algorithm': 'SAMME'},\n",
       " mean: 0.95467, std: 0.01083, params: {'n_estimators': 40, 'learning_rate': 0.4, 'algorithm': 'SAMME'},\n",
       " mean: 0.95200, std: 0.00990, params: {'n_estimators': 50, 'learning_rate': 0.4, 'algorithm': 'SAMME'},\n",
       " mean: 0.95200, std: 0.01072, params: {'n_estimators': 60, 'learning_rate': 0.4, 'algorithm': 'SAMME'},\n",
       " mean: 0.95600, std: 0.01087, params: {'n_estimators': 40, 'learning_rate': 0.6, 'algorithm': 'SAMME'},\n",
       " mean: 0.95067, std: 0.01613, params: {'n_estimators': 50, 'learning_rate': 0.6, 'algorithm': 'SAMME'},\n",
       " mean: 0.95333, std: 0.00952, params: {'n_estimators': 60, 'learning_rate': 0.6, 'algorithm': 'SAMME'},\n",
       " mean: 0.94933, std: 0.01919, params: {'n_estimators': 40, 'learning_rate': 0.8, 'algorithm': 'SAMME'},\n",
       " mean: 0.95733, std: 0.01168, params: {'n_estimators': 50, 'learning_rate': 0.8, 'algorithm': 'SAMME'},\n",
       " mean: 0.94933, std: 0.01868, params: {'n_estimators': 60, 'learning_rate': 0.8, 'algorithm': 'SAMME'},\n",
       " mean: 0.94933, std: 0.01962, params: {'n_estimators': 40, 'learning_rate': 1, 'algorithm': 'SAMME'},\n",
       " mean: 0.95467, std: 0.01428, params: {'n_estimators': 50, 'learning_rate': 1, 'algorithm': 'SAMME'},\n",
       " mean: 0.95200, std: 0.01489, params: {'n_estimators': 60, 'learning_rate': 1, 'algorithm': 'SAMME'}]"
      ]
     },
     "execution_count": 33,
     "metadata": {},
     "output_type": "execute_result"
    }
   ],
   "source": [
    "clf2_CV.grid_scores_"
   ]
  },
  {
   "cell_type": "code",
   "execution_count": 34,
   "metadata": {
    "collapsed": false
   },
   "outputs": [
    {
     "data": {
      "text/plain": [
       "{'algorithm': 'SAMME.R', 'learning_rate': 0.4, 'n_estimators': 40}"
      ]
     },
     "execution_count": 34,
     "metadata": {},
     "output_type": "execute_result"
    }
   ],
   "source": [
    "clf2_CV.best_params_"
   ]
  },
  {
   "cell_type": "code",
   "execution_count": 35,
   "metadata": {
    "collapsed": false
   },
   "outputs": [
    {
     "data": {
      "image/png": "[encoded data removed]",
      "text/plain": [
       "<matplotlib.figure.Figure at 0x11542da90>"
      ]
     },
     "metadata": {},
     "output_type": "display_data"
    }
   ],
   "source": [
    "try:\n",
    "    prettyPicture(clf, features_test, labels_test)\n",
    "except NameError:\n",
    "    pass"
   ]
  },
  {
   "cell_type": "markdown",
   "metadata": {},
   "source": [
    "* Random Forest"
   ]
  },
  {
   "cell_type": "code",
   "execution_count": 36,
   "metadata": {
    "collapsed": true
   },
   "outputs": [],
   "source": [
    "from sklearn.ensemble import RandomForestClassifier"
   ]
  },
  {
   "cell_type": "code",
   "execution_count": 37,
   "metadata": {
    "collapsed": true
   },
   "outputs": [],
   "source": [
    "clf=RandomForestClassifier(random_state=1)"
   ]
  },
  {
   "cell_type": "code",
   "execution_count": 38,
   "metadata": {
    "collapsed": false
   },
   "outputs": [
    {
     "data": {
      "text/plain": [
       "RandomForestClassifier(bootstrap=True, class_weight=None, criterion='gini',\n",
       "            max_depth=None, max_features='auto', max_leaf_nodes=None,\n",
       "            min_impurity_split=1e-07, min_samples_leaf=1,\n",
       "            min_samples_split=2, min_weight_fraction_leaf=0.0,\n",
       "            n_estimators=10, n_jobs=1, oob_score=False, random_state=1,\n",
       "            verbose=0, warm_start=False)"
      ]
     },
     "execution_count": 38,
     "metadata": {},
     "output_type": "execute_result"
    }
   ],
   "source": [
    "clf.fit(features_train,labels_train)"
   ]
  },
  {
   "cell_type": "code",
   "execution_count": 39,
   "metadata": {
    "collapsed": false
   },
   "outputs": [
    {
     "data": {
      "text/plain": [
       "0.92000000000000004"
      ]
     },
     "execution_count": 39,
     "metadata": {},
     "output_type": "execute_result"
    }
   ],
   "source": [
    "clf.score(features_test,labels_test)"
   ]
  },
  {
   "cell_type": "code",
   "execution_count": 40,
   "metadata": {
    "collapsed": true
   },
   "outputs": [],
   "source": [
    "param_grid={'n_estimators':[20,30,40,50],\n",
    "            'criterion':['gini','entropy'],\n",
    "            'max_depth':[3,4,5,6]}"
   ]
  },
  {
   "cell_type": "code",
   "execution_count": 41,
   "metadata": {
    "collapsed": true
   },
   "outputs": [],
   "source": [
    "clf3_CV=GridSearchCV(clf,param_grid=param_grid,cv=5)"
   ]
  },
  {
   "cell_type": "code",
   "execution_count": 42,
   "metadata": {
    "collapsed": false
   },
   "outputs": [
    {
     "data": {
      "text/plain": [
       "GridSearchCV(cv=5, error_score='raise',\n",
       "       estimator=RandomForestClassifier(bootstrap=True, class_weight=None, criterion='gini',\n",
       "            max_depth=None, max_features='auto', max_leaf_nodes=None,\n",
       "            min_impurity_split=1e-07, min_samples_leaf=1,\n",
       "            min_samples_split=2, min_weight_fraction_leaf=0.0,\n",
       "            n_estimators=10, n_jobs=1, oob_score=False, random_state=1,\n",
       "            verbose=0, warm_start=False),\n",
       "       fit_params={}, iid=True, n_jobs=1,\n",
       "       param_grid={'n_estimators': [20, 30, 40, 50], 'criterion': ['gini', 'entropy'], 'max_depth': [3, 4, 5, 6]},\n",
       "       pre_dispatch='2*n_jobs', refit=True, return_train_score=True,\n",
       "       scoring=None, verbose=0)"
      ]
     },
     "execution_count": 42,
     "metadata": {},
     "output_type": "execute_result"
    }
   ],
   "source": [
    "clf3_CV.fit(features_train,labels_train)"
   ]
  },
  {
   "cell_type": "code",
   "execution_count": 43,
   "metadata": {
    "collapsed": false
   },
   "outputs": [
    {
     "name": "stderr",
     "output_type": "stream",
     "text": [
      "/Users/apple/anaconda/envs/python2/lib/python2.7/site-packages/sklearn/model_selection/_search.py:667: DeprecationWarning: The grid_scores_ attribute was deprecated in version 0.18 in favor of the more elaborate cv_results_ attribute. The grid_scores_ attribute will not be available from 0.20\n",
      "  DeprecationWarning)\n"
     ]
    },
    {
     "data": {
      "text/plain": [
       "[mean: 0.94533, std: 0.01552, params: {'n_estimators': 20, 'criterion': 'gini', 'max_depth': 3},\n",
       " mean: 0.94533, std: 0.01299, params: {'n_estimators': 30, 'criterion': 'gini', 'max_depth': 3},\n",
       " mean: 0.94400, std: 0.01242, params: {'n_estimators': 40, 'criterion': 'gini', 'max_depth': 3},\n",
       " mean: 0.94400, std: 0.00815, params: {'n_estimators': 50, 'criterion': 'gini', 'max_depth': 3},\n",
       " mean: 0.95200, std: 0.00782, params: {'n_estimators': 20, 'criterion': 'gini', 'max_depth': 4},\n",
       " mean: 0.94933, std: 0.01434, params: {'n_estimators': 30, 'criterion': 'gini', 'max_depth': 4},\n",
       " mean: 0.95333, std: 0.00939, params: {'n_estimators': 40, 'criterion': 'gini', 'max_depth': 4},\n",
       " mean: 0.94933, std: 0.01163, params: {'n_estimators': 50, 'criterion': 'gini', 'max_depth': 4},\n",
       " mean: 0.94667, std: 0.01688, params: {'n_estimators': 20, 'criterion': 'gini', 'max_depth': 5},\n",
       " mean: 0.94933, std: 0.01373, params: {'n_estimators': 30, 'criterion': 'gini', 'max_depth': 5},\n",
       " mean: 0.95067, std: 0.00901, params: {'n_estimators': 40, 'criterion': 'gini', 'max_depth': 5},\n",
       " mean: 0.94933, std: 0.01234, params: {'n_estimators': 50, 'criterion': 'gini', 'max_depth': 5},\n",
       " mean: 0.95600, std: 0.00904, params: {'n_estimators': 20, 'criterion': 'gini', 'max_depth': 6},\n",
       " mean: 0.95467, std: 0.01067, params: {'n_estimators': 30, 'criterion': 'gini', 'max_depth': 6},\n",
       " mean: 0.95333, std: 0.01265, params: {'n_estimators': 40, 'criterion': 'gini', 'max_depth': 6},\n",
       " mean: 0.95600, std: 0.01083, params: {'n_estimators': 50, 'criterion': 'gini', 'max_depth': 6},\n",
       " mean: 0.94267, std: 0.01719, params: {'n_estimators': 20, 'criterion': 'entropy', 'max_depth': 3},\n",
       " mean: 0.94000, std: 0.01520, params: {'n_estimators': 30, 'criterion': 'entropy', 'max_depth': 3},\n",
       " mean: 0.94400, std: 0.01609, params: {'n_estimators': 40, 'criterion': 'entropy', 'max_depth': 3},\n",
       " mean: 0.94400, std: 0.01375, params: {'n_estimators': 50, 'criterion': 'entropy', 'max_depth': 3},\n",
       " mean: 0.94533, std: 0.01655, params: {'n_estimators': 20, 'criterion': 'entropy', 'max_depth': 4},\n",
       " mean: 0.94533, std: 0.01655, params: {'n_estimators': 30, 'criterion': 'entropy', 'max_depth': 4},\n",
       " mean: 0.94133, std: 0.01809, params: {'n_estimators': 40, 'criterion': 'entropy', 'max_depth': 4},\n",
       " mean: 0.94667, std: 0.01740, params: {'n_estimators': 50, 'criterion': 'entropy', 'max_depth': 4},\n",
       " mean: 0.95467, std: 0.00653, params: {'n_estimators': 20, 'criterion': 'entropy', 'max_depth': 5},\n",
       " mean: 0.95200, std: 0.00980, params: {'n_estimators': 30, 'criterion': 'entropy', 'max_depth': 5},\n",
       " mean: 0.95600, std: 0.00534, params: {'n_estimators': 40, 'criterion': 'entropy', 'max_depth': 5},\n",
       " mean: 0.95733, std: 0.00680, params: {'n_estimators': 50, 'criterion': 'entropy', 'max_depth': 5},\n",
       " mean: 0.95067, std: 0.01003, params: {'n_estimators': 20, 'criterion': 'entropy', 'max_depth': 6},\n",
       " mean: 0.95200, std: 0.00778, params: {'n_estimators': 30, 'criterion': 'entropy', 'max_depth': 6},\n",
       " mean: 0.95600, std: 0.00797, params: {'n_estimators': 40, 'criterion': 'entropy', 'max_depth': 6},\n",
       " mean: 0.95333, std: 0.00602, params: {'n_estimators': 50, 'criterion': 'entropy', 'max_depth': 6}]"
      ]
     },
     "execution_count": 43,
     "metadata": {},
     "output_type": "execute_result"
    }
   ],
   "source": [
    "clf3_CV.grid_scores_"
   ]
  },
  {
   "cell_type": "code",
   "execution_count": 44,
   "metadata": {
    "collapsed": false
   },
   "outputs": [
    {
     "data": {
      "text/plain": [
       "{'criterion': 'entropy', 'max_depth': 5, 'n_estimators': 50}"
      ]
     },
     "execution_count": 44,
     "metadata": {},
     "output_type": "execute_result"
    }
   ],
   "source": [
    "clf3_CV.best_params_"
   ]
  },
  {
   "cell_type": "code",
   "execution_count": 45,
   "metadata": {
    "collapsed": false
   },
   "outputs": [
    {
     "data": {
      "image/png": "[encoded data removed]",
      "text/plain": [
       "<matplotlib.figure.Figure at 0x1138a5a10>"
      ]
     },
     "metadata": {},
     "output_type": "display_data"
    }
   ],
   "source": [
    "try:\n",
    "    prettyPicture(clf,features_test,labels_test)\n",
    "except NameError:\n",
    "    pass"
   ]
  },
  {
   "cell_type": "markdown",
   "metadata": {},
   "source": [
    "#### The best model I have is to use Adaboost with parameter:  'algorithm': 'SAMME.R', 'learning_rate': 0.4, 'n_estimators': 40"
   ]
  },
  {
   "cell_type": "code",
   "execution_count": null,
   "metadata": {
    "collapsed": true
   },
   "outputs": [],
   "source": []
  }
 ],
 "metadata": {
  "kernelspec": {
   "display_name": "Python [conda env:python2]",
   "language": "python",
   "name": "conda-env-python2-py"
  },
  "language_info": {
   "codemirror_mode": {
    "name": "ipython",
    "version": 2
   },
   "file_extension": ".py",
   "mimetype": "text/x-python",
   "name": "python",
   "nbconvert_exporter": "python",
   "pygments_lexer": "ipython2",
   "version": "2.7.13"
  }
 },
 "nbformat": 4,
 "nbformat_minor": 2
}
